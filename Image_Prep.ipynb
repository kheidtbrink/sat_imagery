{
 "cells": [
  {
   "cell_type": "code",
   "execution_count": 4,
   "id": "d9449e5e",
   "metadata": {},
   "outputs": [],
   "source": [
    "# Imports\n",
    "import pandas as pd\n",
    "import numpy as np\n",
    "import tifffile as tif\n",
    "import matplotlib.pyplot as plt\n",
    "import os, gc, glob\n",
    "from PIL import Image\n",
    "from tensorflow.keras import layers\n",
    "from tensorflow.keras import Sequential\n",
    "import cv2\n",
    "import joblib\n"
   ]
  },
  {
   "cell_type": "markdown",
   "id": "bfbb1a30",
   "metadata": {},
   "source": [
    "## Import the images and preprocess\n",
    "    #Load Data\n",
    "    #Reshape image to min X,Y dimensions\n",
    "    #Resize the images - reduce the size"
   ]
  },
  {
   "cell_type": "code",
   "execution_count": 5,
   "id": "96fae255",
   "metadata": {},
   "outputs": [
    {
     "name": "stdout",
     "output_type": "stream",
     "text": [
      "6140_1_2.tif\n",
      "6040_2_2.tif\n",
      "6140_3_1.tif\n",
      "6040_4_4.tif\n",
      "6040_1_0.tif\n",
      "6040_1_3.tif\n",
      "6090_2_0.tif\n",
      "6100_2_3.tif\n",
      "6100_2_2.tif\n",
      "6070_2_3.tif\n",
      "6110_1_2.tif\n",
      "6100_1_3.tif\n",
      "6170_2_4.tif\n",
      "6010_4_4.tif\n",
      "6170_0_4.tif\n",
      "6170_4_1.tif\n",
      "6010_4_2.tif\n",
      "6160_2_1.tif\n"
     ]
    }
   ],
   "source": [
    "#Load image from directory\n",
    "dirname = '/Users/stephanereis/Downloads/temp'  # absolute path\n",
    "image_list = []   # list which will contain array of individual tif files\n",
    "# iterate through the file directory\n",
    "for fname in os.listdir(dirname):\n",
    "    print(fname)\n",
    "    im = Image.open(os.path.join(dirname, fname))\n",
    "    imarray = np.array(im)\n",
    "    image_list.append(imarray)"
   ]
  },
  {
   "cell_type": "code",
   "execution_count": 6,
   "id": "d764913e",
   "metadata": {},
   "outputs": [
    {
     "name": "stdout",
     "output_type": "stream",
     "text": [
      "(3348, 3396, 3)\n",
      "(3349, 3391, 3)\n",
      "(3348, 3396, 3)\n",
      "(3346, 3387, 3)\n",
      "(3349, 3391, 3)\n",
      "(3349, 3391, 3)\n",
      "(3349, 3393, 3)\n",
      "(3349, 3391, 3)\n",
      "(3349, 3391, 3)\n",
      "(3350, 3338, 3)\n",
      "(3348, 3396, 3)\n",
      "(3349, 3391, 3)\n",
      "(3349, 3389, 3)\n",
      "(3345, 3393, 3)\n",
      "(3349, 3389, 3)\n",
      "(3345, 3393, 3)\n",
      "(3345, 3396, 3)\n",
      "(3349, 3393, 3)\n"
     ]
    }
   ],
   "source": [
    "# explore the shape of the files\n",
    "array_shape = []\n",
    "for i in image_list:\n",
    "    print(i.shape)\n",
    "    array_shape.append(i.shape)"
   ]
  },
  {
   "cell_type": "code",
   "execution_count": 7,
   "id": "c1ba4a59",
   "metadata": {},
   "outputs": [
    {
     "data": {
      "text/html": [
       "<div>\n",
       "<style scoped>\n",
       "    .dataframe tbody tr th:only-of-type {\n",
       "        vertical-align: middle;\n",
       "    }\n",
       "\n",
       "    .dataframe tbody tr th {\n",
       "        vertical-align: top;\n",
       "    }\n",
       "\n",
       "    .dataframe thead th {\n",
       "        text-align: right;\n",
       "    }\n",
       "</style>\n",
       "<table border=\"1\" class=\"dataframe\">\n",
       "  <thead>\n",
       "    <tr style=\"text-align: right;\">\n",
       "      <th></th>\n",
       "      <th>0</th>\n",
       "      <th>1</th>\n",
       "      <th>2</th>\n",
       "    </tr>\n",
       "  </thead>\n",
       "  <tbody>\n",
       "    <tr>\n",
       "      <th>0</th>\n",
       "      <td>3348</td>\n",
       "      <td>3396</td>\n",
       "      <td>3</td>\n",
       "    </tr>\n",
       "    <tr>\n",
       "      <th>1</th>\n",
       "      <td>3349</td>\n",
       "      <td>3391</td>\n",
       "      <td>3</td>\n",
       "    </tr>\n",
       "    <tr>\n",
       "      <th>2</th>\n",
       "      <td>3348</td>\n",
       "      <td>3396</td>\n",
       "      <td>3</td>\n",
       "    </tr>\n",
       "  </tbody>\n",
       "</table>\n",
       "</div>"
      ],
      "text/plain": [
       "      0     1  2\n",
       "0  3348  3396  3\n",
       "1  3349  3391  3\n",
       "2  3348  3396  3"
      ]
     },
     "execution_count": 7,
     "metadata": {},
     "output_type": "execute_result"
    }
   ],
   "source": [
    "# get the min and max values of the shape of the images \n",
    "df_shape = pd.DataFrame(array_shape)\n",
    "df_shape.head(3)"
   ]
  },
  {
   "cell_type": "code",
   "execution_count": 8,
   "id": "8e840df0",
   "metadata": {},
   "outputs": [
    {
     "data": {
      "text/plain": [
       "3345"
      ]
     },
     "execution_count": 8,
     "metadata": {},
     "output_type": "execute_result"
    }
   ],
   "source": [
    "# X shape min\n",
    "x_min = df_shape[0].min()\n",
    "x_min"
   ]
  },
  {
   "cell_type": "code",
   "execution_count": 9,
   "id": "3826fccd",
   "metadata": {},
   "outputs": [
    {
     "data": {
      "text/plain": [
       "3338"
      ]
     },
     "execution_count": 9,
     "metadata": {},
     "output_type": "execute_result"
    }
   ],
   "source": [
    "# y shape min\n",
    "y_min = df_shape[1].min()\n",
    "y_min"
   ]
  },
  {
   "cell_type": "code",
   "execution_count": 10,
   "id": "83db239e",
   "metadata": {},
   "outputs": [],
   "source": [
    "# reshape the individual images using a using numpy slicing\n",
    "\n",
    "reshape_image = []\n",
    "for image in image_list:\n",
    "    #print(image)\n",
    "    reshape_image.append(image[:x_min,:y_min])"
   ]
  },
  {
   "cell_type": "code",
   "execution_count": 11,
   "id": "19bdcf66",
   "metadata": {},
   "outputs": [
    {
     "name": "stdout",
     "output_type": "stream",
     "text": [
      "(3345, 3338, 3)\n",
      "(3345, 3338, 3)\n",
      "(3345, 3338, 3)\n",
      "(3345, 3338, 3)\n",
      "(3345, 3338, 3)\n",
      "(3345, 3338, 3)\n",
      "(3345, 3338, 3)\n",
      "(3345, 3338, 3)\n",
      "(3345, 3338, 3)\n",
      "(3345, 3338, 3)\n",
      "(3345, 3338, 3)\n",
      "(3345, 3338, 3)\n",
      "(3345, 3338, 3)\n",
      "(3345, 3338, 3)\n",
      "(3345, 3338, 3)\n",
      "(3345, 3338, 3)\n",
      "(3345, 3338, 3)\n",
      "(3345, 3338, 3)\n"
     ]
    }
   ],
   "source": [
    "# verify the image shapes are equal \n",
    "for i in reshape_image:\n",
    "    print(i.shape)"
   ]
  },
  {
   "cell_type": "code",
   "execution_count": null,
   "id": "62700a7e",
   "metadata": {},
   "outputs": [],
   "source": [
    "# data type\n",
    "type(reshape_image)"
   ]
  },
  {
   "cell_type": "code",
   "execution_count": 12,
   "id": "af3efaab",
   "metadata": {},
   "outputs": [
    {
     "data": {
      "text/plain": [
       "(3345, 3338, 3)"
      ]
     },
     "execution_count": 12,
     "metadata": {},
     "output_type": "execute_result"
    }
   ],
   "source": [
    "# create a variable for the with the dimensions for the resize\n",
    "img_shp = reshape_image[0].shape\n",
    "img_shp"
   ]
  },
  {
   "cell_type": "code",
   "execution_count": 13,
   "id": "2957bf2f",
   "metadata": {},
   "outputs": [
    {
     "data": {
      "text/plain": [
       "18"
      ]
     },
     "execution_count": 13,
     "metadata": {},
     "output_type": "execute_result"
    }
   ],
   "source": [
    "# explore reshape image\n",
    "len(reshape_image[0:])"
   ]
  },
  {
   "cell_type": "code",
   "execution_count": 14,
   "id": "43012774",
   "metadata": {},
   "outputs": [
    {
     "data": {
      "text/plain": [
       "3345"
      ]
     },
     "execution_count": 14,
     "metadata": {},
     "output_type": "execute_result"
    }
   ],
   "source": [
    "# explore reshape image\n",
    "len(reshape_image[0:][0])"
   ]
  },
  {
   "cell_type": "code",
   "execution_count": 15,
   "id": "0d257345",
   "metadata": {},
   "outputs": [
    {
     "data": {
      "text/plain": [
       "3345"
      ]
     },
     "execution_count": 15,
     "metadata": {},
     "output_type": "execute_result"
    }
   ],
   "source": [
    "# explore reshape image\n",
    "len(reshape_image[0:][0])"
   ]
  },
  {
   "cell_type": "code",
   "execution_count": 16,
   "id": "12eb45e8",
   "metadata": {},
   "outputs": [
    {
     "data": {
      "text/plain": [
       "(3345, 3338, 3)"
      ]
     },
     "execution_count": 16,
     "metadata": {},
     "output_type": "execute_result"
    }
   ],
   "source": [
    "img_shp"
   ]
  },
  {
   "cell_type": "code",
   "execution_count": 17,
   "id": "34c79907",
   "metadata": {},
   "outputs": [
    {
     "data": {
      "text/plain": [
       "3345"
      ]
     },
     "execution_count": 17,
     "metadata": {},
     "output_type": "execute_result"
    }
   ],
   "source": [
    "img_shp[0]"
   ]
  },
  {
   "cell_type": "code",
   "execution_count": 18,
   "id": "c701cdb2",
   "metadata": {},
   "outputs": [
    {
     "data": {
      "text/plain": [
       "3338"
      ]
     },
     "execution_count": 18,
     "metadata": {},
     "output_type": "execute_result"
    }
   ],
   "source": [
    "img_shp[1]"
   ]
  },
  {
   "cell_type": "code",
   "execution_count": 19,
   "id": "b0d82cbf",
   "metadata": {},
   "outputs": [
    {
     "name": "stdout",
     "output_type": "stream",
     "text": [
      "255\n",
      "255\n",
      "255\n",
      "255\n",
      "255\n",
      "255\n",
      "255\n",
      "255\n",
      "255\n",
      "255\n",
      "255\n",
      "255\n",
      "255\n",
      "255\n",
      "255\n",
      "255\n",
      "255\n",
      "255\n"
     ]
    }
   ],
   "source": [
    "for v in reshape_image:\n",
    "    print(v.max())"
   ]
  },
  {
   "cell_type": "markdown",
   "id": "d1c45ffb",
   "metadata": {},
   "source": [
    "##set up image resize\n",
    "def image_resize(scale_percent):\n",
    "    scale_percent = scale_percent\n",
    "    \n"
   ]
  },
  {
   "cell_type": "code",
   "execution_count": null,
   "id": "bb4190c7",
   "metadata": {},
   "outputs": [],
   "source": [
    "# set up variables for the image resize\n",
    "\n",
    "scale_percent = 50\n",
    "width = int(img_shp[1] * scale_percent / 100)\n",
    "height = int(img_shp[0] * scale_percent / 100)\n",
    "dim = (width, height)"
   ]
  },
  {
   "cell_type": "code",
   "execution_count": null,
   "id": "3c96a5ef",
   "metadata": {},
   "outputs": [],
   "source": [
    "reshape_image[0].shape"
   ]
  },
  {
   "cell_type": "code",
   "execution_count": null,
   "id": "2ec97897",
   "metadata": {},
   "outputs": [],
   "source": [
    "# resize individual images in a folder\n",
    "ls = []\n",
    "for ind_i in reshape_image:\n",
    "    ls.append(cv2.resize(ind_i, dim, interpolation = cv2.INTER_AREA))\n",
    "    "
   ]
  },
  {
   "cell_type": "code",
   "execution_count": null,
   "id": "84736e37",
   "metadata": {
    "scrolled": true
   },
   "outputs": [],
   "source": [
    "# check that the resize worked correctly\n",
    "for i in ls:\n",
    "    print(i.shape)"
   ]
  },
  {
   "cell_type": "markdown",
   "id": "010920b4",
   "metadata": {},
   "source": [
    "### Getting the target class Water"
   ]
  },
  {
   "cell_type": "code",
   "execution_count": null,
   "id": "a199b357",
   "metadata": {},
   "outputs": [],
   "source": [
    "#open geojson training folder\n",
    "file = '/Users/kyleheidtbrink/code/kheidtbrink/sat_imagery/raw_data/train_geojson_v3/'\n",
    "\n",
    "for name in os.listdir(file):\n",
    "    files = os.walk(file)\n",
    "    geojson_files = [f[0] for f in os.walk(file)]"
   ]
  },
  {
   "cell_type": "code",
   "execution_count": null,
   "id": "1df17271",
   "metadata": {},
   "outputs": [],
   "source": [
    "#list of all the folders inside the training folder\n",
    "geojson_folders = os.listdir(geojson_files[0])\n",
    "geojson_folders"
   ]
  },
  {
   "cell_type": "code",
   "execution_count": null,
   "id": "ac50b74d",
   "metadata": {},
   "outputs": [],
   "source": [
    "geojson_files[0]"
   ]
  },
  {
   "cell_type": "code",
   "execution_count": null,
   "id": "ff8691fd",
   "metadata": {},
   "outputs": [],
   "source": [
    "# create a dictionary with key:image, and values:class\n",
    "geojson_per_image = {}\n",
    "\n",
    "for i in geojson_folders:\n",
    "    fichiers = os.listdir(geojson_files[0]+ f\"/{i}\")\n",
    "    geojson_per_image[i] = int(any('008' in s for s in fichiers)) #target water"
   ]
  },
  {
   "cell_type": "code",
   "execution_count": null,
   "id": "3cfb48ea",
   "metadata": {},
   "outputs": [],
   "source": [
    "# print the dict to verify\n",
    "geojson_per_image"
   ]
  },
  {
   "cell_type": "code",
   "execution_count": null,
   "id": "a59e5df0",
   "metadata": {},
   "outputs": [],
   "source": [
    "# put the dict into a pandas dataframe\n",
    "df_target = pd.DataFrame.from_dict(geojson_per_image, orient='index')\n",
    "df_target"
   ]
  },
  {
   "cell_type": "code",
   "execution_count": null,
   "id": "e75c8921",
   "metadata": {},
   "outputs": [],
   "source": [
    "# explore the images and classes\n",
    "len(df_target)"
   ]
  },
  {
   "cell_type": "code",
   "execution_count": null,
   "id": "c391ef72",
   "metadata": {},
   "outputs": [],
   "source": [
    "y_train = df_target.head(23)\n",
    "y_train"
   ]
  },
  {
   "cell_type": "code",
   "execution_count": null,
   "id": "52805ac7",
   "metadata": {},
   "outputs": [],
   "source": [
    "len(ls)"
   ]
  },
  {
   "cell_type": "code",
   "execution_count": null,
   "id": "1b0d2f27",
   "metadata": {},
   "outputs": [],
   "source": [
    "X_train = np.asanyarray(ls)\n",
    "X_train.shape"
   ]
  },
  {
   "cell_type": "markdown",
   "id": "57c25a1e",
   "metadata": {},
   "source": [
    "## Build the Model"
   ]
  },
  {
   "cell_type": "code",
   "execution_count": null,
   "id": "92a65f58",
   "metadata": {},
   "outputs": [],
   "source": [
    "ls[0].shape"
   ]
  },
  {
   "cell_type": "code",
   "execution_count": null,
   "id": "a3683f52",
   "metadata": {},
   "outputs": [],
   "source": [
    "lg_n = []\n",
    "for i in ls:\n",
    "    lg_n.append(i.max())\n",
    "    print(i.max())"
   ]
  },
  {
   "cell_type": "code",
   "execution_count": null,
   "id": "3edcbcde",
   "metadata": {},
   "outputs": [],
   "source": [
    "max(lg_n)"
   ]
  },
  {
   "cell_type": "code",
   "execution_count": null,
   "id": "2d2c6765",
   "metadata": {},
   "outputs": [],
   "source": [
    "X_train[0].shape"
   ]
  },
  {
   "cell_type": "code",
   "execution_count": null,
   "id": "0a86dc20",
   "metadata": {},
   "outputs": [],
   "source": [
    "# Home made model\n",
    "from tensorflow.keras import Sequential, layers\n",
    "from tensorflow.keras import optimizers\n",
    "from tensorflow.keras.callbacks import EarlyStopping\n",
    "from tensorflow.keras.layers.experimental.preprocessing import Rescaling\n",
    "\n",
    "def load_own_model():\n",
    "\n",
    "    model = Sequential()\n",
    "    model.add(Rescaling(1./130, input_shape=(X_train[0].shape)))\n",
    "\n",
    "    model.add(layers.Conv2D(16, kernel_size=5, activation='relu'))\n",
    "    model.add(layers.MaxPooling2D(3))\n",
    "    \n",
    "    model.add(layers.Conv2D(32, kernel_size=4, activation=\"relu\"))\n",
    "    model.add(layers.MaxPooling2D(3))\n",
    "\n",
    "    model.add(layers.Conv2D(32, kernel_size=3, activation=\"relu\"))\n",
    "    model.add(layers.MaxPooling2D(3))\n",
    "    \n",
    "    model.add(layers.Flatten())\n",
    "    model.add(layers.Dense(100, activation='relu'))\n",
    "    model.add(layers.Dense(1, activation='sigmoid'))\n",
    "    \n",
    "    opt = optimizers.Adam(learning_rate=1e-4)\n",
    "    model.compile(loss='binary_crossentropy',\n",
    "                  optimizer=opt,\n",
    "                  metrics=['accuracy'])\n",
    "    \n",
    "    return model\n",
    "\n",
    "model = load_own_model()\n",
    "model.summary()"
   ]
  },
  {
   "cell_type": "code",
   "execution_count": null,
   "id": "ee8cb734",
   "metadata": {},
   "outputs": [],
   "source": [
    "es = EarlyStopping(mode='max', patience=5, restore_best_weights=True)\n",
    "\n",
    "model.fit(X_train, y_train,\n",
    "         batch_size=16,validation_split=0.1, \n",
    "         epochs=25,verbose=1)"
   ]
  },
  {
   "cell_type": "markdown",
   "id": "2e1ca62b",
   "metadata": {},
   "source": [
    "## First Run\n",
    "Epoch 1/10\n",
    "2/2 [==============================] - 148s 21s/step - loss: 1.2738 - accuracy: 0.6087\n",
    "Epoch 2/10\n",
    "2/2 [==============================] - 122s 17s/step - loss: 0.8995 - accuracy: 0.4783\n",
    "Epoch 3/10\n",
    "2/2 [==============================] - 130s 19s/step - loss: 1.0050 - accuracy: 0.3913\n",
    "Epoch 4/10\n",
    "2/2 [==============================] - 118s 21s/step - loss: 0.8076 - accuracy: 0.3913\n",
    "Epoch 5/10\n",
    "2/2 [==============================] - 145s 16s/step - loss: 0.6834 - accuracy: 0.3478\n",
    "Epoch 6/10\n",
    "2/2 [==============================] - 141s 20s/step - loss: 0.6296 - accuracy: 0.6087\n",
    "Epoch 7/10\n",
    "2/2 [==============================] - 120s 14s/step - loss: 0.6499 - accuracy: 0.6087\n",
    "Epoch 8/10\n",
    "2/2 [==============================] - 137s 17s/step - loss: 0.6765 - accuracy: 0.6087\n",
    "Epoch 9/10\n",
    "2/2 [==============================] - 114s 19s/step - loss: 0.6822 - accuracy: 0.6087\n",
    "Epoch 10/10\n",
    "2/2 [==============================] - 125s 15s/step - loss: 0.6511 - accuracy: 0.6087\n",
    "<tensorflow.python.keras.callbacks.History at 0x162800cd0>"
   ]
  },
  {
   "cell_type": "code",
   "execution_count": null,
   "id": "c6661d38",
   "metadata": {},
   "outputs": [],
   "source": [
    "y_train.value_counts().max()"
   ]
  },
  {
   "cell_type": "code",
   "execution_count": null,
   "id": "82005487",
   "metadata": {},
   "outputs": [],
   "source": [
    "baseline_model = y_train.value_counts().max()/len(y_train)\n",
    "baseline_model"
   ]
  },
  {
   "cell_type": "code",
   "execution_count": 3,
   "id": "211aece7",
   "metadata": {},
   "outputs": [
    {
     "ename": "NameError",
     "evalue": "name 'model' is not defined",
     "output_type": "error",
     "traceback": [
      "\u001b[0;31m---------------------------------------------------------------------------\u001b[0m",
      "\u001b[0;31mNameError\u001b[0m                                 Traceback (most recent call last)",
      "\u001b[0;32m<ipython-input-3-e04f7618fc14>\u001b[0m in \u001b[0;36m<module>\u001b[0;34m\u001b[0m\n\u001b[0;32m----> 1\u001b[0;31m \u001b[0mjoblib\u001b[0m\u001b[0;34m.\u001b[0m\u001b[0mdump\u001b[0m\u001b[0;34m(\u001b[0m\u001b[0mmodel\u001b[0m\u001b[0;34m,\u001b[0m \u001b[0;34m'model.joblib'\u001b[0m\u001b[0;34m)\u001b[0m\u001b[0;34m\u001b[0m\u001b[0;34m\u001b[0m\u001b[0m\n\u001b[0m",
      "\u001b[0;31mNameError\u001b[0m: name 'model' is not defined"
     ]
    }
   ],
   "source": [
    "joblib.dump(model, 'model.joblib')"
   ]
  },
  {
   "cell_type": "code",
   "execution_count": null,
   "id": "971aa4eb",
   "metadata": {},
   "outputs": [],
   "source": []
  }
 ],
 "metadata": {
  "kernelspec": {
   "display_name": "Python 3",
   "language": "python",
   "name": "python3"
  },
  "language_info": {
   "codemirror_mode": {
    "name": "ipython",
    "version": 3
   },
   "file_extension": ".py",
   "mimetype": "text/x-python",
   "name": "python",
   "nbconvert_exporter": "python",
   "pygments_lexer": "ipython3",
   "version": "3.8.6"
  },
  "toc": {
   "base_numbering": 1,
   "nav_menu": {},
   "number_sections": true,
   "sideBar": true,
   "skip_h1_title": false,
   "title_cell": "Table of Contents",
   "title_sidebar": "Contents",
   "toc_cell": false,
   "toc_position": {},
   "toc_section_display": true,
   "toc_window_display": false
  }
 },
 "nbformat": 4,
 "nbformat_minor": 5
}
