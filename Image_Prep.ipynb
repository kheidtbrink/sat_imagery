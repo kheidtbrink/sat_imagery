{
 "cells": [
  {
   "cell_type": "code",
   "execution_count": 1,
   "id": "d9449e5e",
   "metadata": {},
   "outputs": [],
   "source": [
    "# Imports\n",
    "import pandas as pd\n",
    "import numpy as np\n",
    "import tifffile as tif\n",
    "import matplotlib.pyplot as plt\n",
    "import os, gc, glob\n",
    "from PIL import Image\n",
    "from tensorflow.keras import layers\n",
    "from tensorflow.keras import Sequential\n",
    "import cv2"
   ]
  },
  {
   "cell_type": "markdown",
   "id": "bfbb1a30",
   "metadata": {},
   "source": [
    "## Import the images and preprocess\n",
    "    #Load Data\n",
    "    #Reshape image to min X,Y dimensions\n",
    "    #Resize the images - reduce the size"
   ]
  },
  {
   "cell_type": "code",
   "execution_count": 2,
   "id": "96fae255",
   "metadata": {},
   "outputs": [
    {
     "name": "stdout",
     "output_type": "stream",
     "text": [
      "6140_1_2.tif\n",
      "6040_2_2.tif\n",
      "6140_3_1.tif\n",
      "6040_4_4.tif\n",
      "6120_2_0.tif\n",
      "6120_2_2.tif\n",
      "6150_2_3.tif\n",
      "6040_1_3.tif\n",
      "6090_2_0.tif\n",
      "6100_2_3.tif\n",
      "6100_2_2.tif\n",
      "6070_2_3.tif\n",
      "6060_2_3.tif\n",
      "6110_4_0.tif\n",
      "6110_1_2.tif\n",
      "6110_3_1.tif\n",
      "6100_1_3.tif\n",
      "6170_2_4.tif\n",
      "6010_4_4.tif\n",
      "6170_0_4.tif\n",
      "6170_4_1.tif\n",
      "6010_4_2.tif\n",
      "6160_2_1.tif\n"
     ]
    }
   ],
   "source": [
    "#Load image from directory\n",
    "dirname = '/Users/kyleheidtbrink/code/kheidtbrink/sat_imagery/raw_data/temp/'  # absolute path\n",
    "image_list = []   # list which will contain array of individual tif files\n",
    "# iterate through the file directory\n",
    "for fname in os.listdir(dirname):\n",
    "    print(fname)\n",
    "    im = Image.open(os.path.join(dirname, fname))\n",
    "    imarray = np.array(im)\n",
    "    image_list.append(imarray)"
   ]
  },
  {
   "cell_type": "code",
   "execution_count": 25,
   "id": "d764913e",
   "metadata": {},
   "outputs": [
    {
     "name": "stdout",
     "output_type": "stream",
     "text": [
      "(3348, 3396, 3)\n",
      "(3349, 3391, 3)\n",
      "(3348, 3396, 3)\n",
      "(3346, 3387, 3)\n",
      "(3348, 3403, 3)\n",
      "(3348, 3403, 3)\n",
      "(3348, 3403, 3)\n",
      "(3349, 3391, 3)\n",
      "(3349, 3393, 3)\n",
      "(3349, 3391, 3)\n",
      "(3349, 3391, 3)\n",
      "(3350, 3338, 3)\n",
      "(3348, 3403, 3)\n",
      "(3348, 3396, 3)\n",
      "(3348, 3396, 3)\n",
      "(3348, 3396, 3)\n",
      "(3349, 3391, 3)\n",
      "(3349, 3389, 3)\n",
      "(3345, 3393, 3)\n",
      "(3349, 3389, 3)\n",
      "(3345, 3393, 3)\n",
      "(3345, 3396, 3)\n",
      "(3349, 3393, 3)\n"
     ]
    }
   ],
   "source": [
    "# explore the shape of the files\n",
    "array_shape = []\n",
    "for i in image_list:\n",
    "    print(i.shape)\n",
    "    array_shape.append(i.shape)"
   ]
  },
  {
   "cell_type": "code",
   "execution_count": 26,
   "id": "c1ba4a59",
   "metadata": {},
   "outputs": [
    {
     "data": {
      "text/html": [
       "<div>\n",
       "<style scoped>\n",
       "    .dataframe tbody tr th:only-of-type {\n",
       "        vertical-align: middle;\n",
       "    }\n",
       "\n",
       "    .dataframe tbody tr th {\n",
       "        vertical-align: top;\n",
       "    }\n",
       "\n",
       "    .dataframe thead th {\n",
       "        text-align: right;\n",
       "    }\n",
       "</style>\n",
       "<table border=\"1\" class=\"dataframe\">\n",
       "  <thead>\n",
       "    <tr style=\"text-align: right;\">\n",
       "      <th></th>\n",
       "      <th>0</th>\n",
       "      <th>1</th>\n",
       "      <th>2</th>\n",
       "    </tr>\n",
       "  </thead>\n",
       "  <tbody>\n",
       "    <tr>\n",
       "      <th>0</th>\n",
       "      <td>3348</td>\n",
       "      <td>3396</td>\n",
       "      <td>3</td>\n",
       "    </tr>\n",
       "    <tr>\n",
       "      <th>1</th>\n",
       "      <td>3349</td>\n",
       "      <td>3391</td>\n",
       "      <td>3</td>\n",
       "    </tr>\n",
       "    <tr>\n",
       "      <th>2</th>\n",
       "      <td>3348</td>\n",
       "      <td>3396</td>\n",
       "      <td>3</td>\n",
       "    </tr>\n",
       "  </tbody>\n",
       "</table>\n",
       "</div>"
      ],
      "text/plain": [
       "      0     1  2\n",
       "0  3348  3396  3\n",
       "1  3349  3391  3\n",
       "2  3348  3396  3"
      ]
     },
     "execution_count": 26,
     "metadata": {},
     "output_type": "execute_result"
    }
   ],
   "source": [
    "# get the min and max values of the shape of the images \n",
    "df_shape = pd.DataFrame(array_shape)\n",
    "df_shape.head(3)"
   ]
  },
  {
   "cell_type": "code",
   "execution_count": 27,
   "id": "8e840df0",
   "metadata": {},
   "outputs": [
    {
     "data": {
      "text/plain": [
       "3345"
      ]
     },
     "execution_count": 27,
     "metadata": {},
     "output_type": "execute_result"
    }
   ],
   "source": [
    "# X shape min\n",
    "x_min = df_shape[0].min()\n",
    "x_min"
   ]
  },
  {
   "cell_type": "code",
   "execution_count": 28,
   "id": "3826fccd",
   "metadata": {},
   "outputs": [
    {
     "data": {
      "text/plain": [
       "3338"
      ]
     },
     "execution_count": 28,
     "metadata": {},
     "output_type": "execute_result"
    }
   ],
   "source": [
    "# y shape min\n",
    "y_min = df_shape[1].min()\n",
    "y_min"
   ]
  },
  {
   "cell_type": "code",
   "execution_count": 30,
   "id": "83db239e",
   "metadata": {},
   "outputs": [],
   "source": [
    "# reshape the individual images using a using numpy slicing\n",
    "\n",
    "reshape_image = []\n",
    "for image in image_list:\n",
    "    #print(image)\n",
    "    reshape_image.append(image[:x_min,:y_min])"
   ]
  },
  {
   "cell_type": "code",
   "execution_count": 73,
   "id": "19bdcf66",
   "metadata": {},
   "outputs": [
    {
     "name": "stdout",
     "output_type": "stream",
     "text": [
      "(3345, 3338, 3)\n",
      "(3345, 3338, 3)\n",
      "(3345, 3338, 3)\n",
      "(3345, 3338, 3)\n",
      "(3345, 3338, 3)\n",
      "(3345, 3338, 3)\n",
      "(3345, 3338, 3)\n",
      "(3345, 3338, 3)\n",
      "(3345, 3338, 3)\n",
      "(3345, 3338, 3)\n",
      "(3345, 3338, 3)\n",
      "(3345, 3338, 3)\n",
      "(3345, 3338, 3)\n",
      "(3345, 3338, 3)\n",
      "(3345, 3338, 3)\n",
      "(3345, 3338, 3)\n",
      "(3345, 3338, 3)\n",
      "(3345, 3338, 3)\n",
      "(3345, 3338, 3)\n",
      "(3345, 3338, 3)\n",
      "(3345, 3338, 3)\n",
      "(3345, 3338, 3)\n",
      "(3345, 3338, 3)\n"
     ]
    }
   ],
   "source": [
    "# verify the image shapes are equal \n",
    "for i in reshape_image:\n",
    "    print(i.shape)"
   ]
  },
  {
   "cell_type": "code",
   "execution_count": 33,
   "id": "62700a7e",
   "metadata": {},
   "outputs": [
    {
     "data": {
      "text/plain": [
       "list"
      ]
     },
     "execution_count": 33,
     "metadata": {},
     "output_type": "execute_result"
    }
   ],
   "source": [
    "# data type\n",
    "type(reshape_image)"
   ]
  },
  {
   "cell_type": "code",
   "execution_count": 105,
   "id": "af3efaab",
   "metadata": {},
   "outputs": [
    {
     "data": {
      "text/plain": [
       "(3345, 3338, 3)"
      ]
     },
     "execution_count": 105,
     "metadata": {},
     "output_type": "execute_result"
    }
   ],
   "source": [
    "# create a variable for the with the dimensions for the resize\n",
    "img_shp = reshape_image[0].shape\n",
    "img_shp"
   ]
  },
  {
   "cell_type": "code",
   "execution_count": 48,
   "id": "2957bf2f",
   "metadata": {},
   "outputs": [
    {
     "data": {
      "text/plain": [
       "23"
      ]
     },
     "execution_count": 48,
     "metadata": {},
     "output_type": "execute_result"
    }
   ],
   "source": [
    "# explore reshape image\n",
    "len(reshape_image[0:])"
   ]
  },
  {
   "cell_type": "code",
   "execution_count": 49,
   "id": "43012774",
   "metadata": {},
   "outputs": [
    {
     "data": {
      "text/plain": [
       "3345"
      ]
     },
     "execution_count": 49,
     "metadata": {},
     "output_type": "execute_result"
    }
   ],
   "source": [
    "# explore reshape image\n",
    "len(reshape_image[0:][0])"
   ]
  },
  {
   "cell_type": "code",
   "execution_count": 76,
   "id": "0d257345",
   "metadata": {},
   "outputs": [
    {
     "data": {
      "text/plain": [
       "3345"
      ]
     },
     "execution_count": 76,
     "metadata": {},
     "output_type": "execute_result"
    }
   ],
   "source": [
    "# explore reshape image\n",
    "len(reshape_image[0:][0])"
   ]
  },
  {
   "cell_type": "code",
   "execution_count": 77,
   "id": "12eb45e8",
   "metadata": {},
   "outputs": [
    {
     "data": {
      "text/plain": [
       "(3345, 3338, 3)"
      ]
     },
     "execution_count": 77,
     "metadata": {},
     "output_type": "execute_result"
    }
   ],
   "source": [
    "img_shp"
   ]
  },
  {
   "cell_type": "code",
   "execution_count": 78,
   "id": "34c79907",
   "metadata": {},
   "outputs": [
    {
     "data": {
      "text/plain": [
       "3345"
      ]
     },
     "execution_count": 78,
     "metadata": {},
     "output_type": "execute_result"
    }
   ],
   "source": [
    "img_shp[0]"
   ]
  },
  {
   "cell_type": "code",
   "execution_count": 79,
   "id": "c701cdb2",
   "metadata": {},
   "outputs": [
    {
     "data": {
      "text/plain": [
       "3338"
      ]
     },
     "execution_count": 79,
     "metadata": {},
     "output_type": "execute_result"
    }
   ],
   "source": [
    "img_shp[1]"
   ]
  },
  {
   "cell_type": "code",
   "execution_count": 120,
   "id": "b0d82cbf",
   "metadata": {},
   "outputs": [
    {
     "name": "stdout",
     "output_type": "stream",
     "text": [
      "255\n",
      "255\n",
      "255\n",
      "255\n",
      "255\n",
      "255\n",
      "255\n",
      "255\n",
      "255\n",
      "255\n",
      "255\n",
      "255\n",
      "255\n",
      "255\n",
      "255\n",
      "255\n",
      "255\n",
      "255\n",
      "255\n",
      "255\n",
      "255\n",
      "255\n",
      "255\n"
     ]
    }
   ],
   "source": [
    "for v in reshape_image:\n",
    "    print(v.max())"
   ]
  },
  {
   "cell_type": "markdown",
   "id": "d1c45ffb",
   "metadata": {},
   "source": [
    "##set up image resize\n",
    "def image_resize(scale_percent):\n",
    "    scale_percent = scale_percent\n",
    "    \n"
   ]
  },
  {
   "cell_type": "code",
   "execution_count": 82,
   "id": "bb4190c7",
   "metadata": {},
   "outputs": [
    {
     "data": {
      "text/plain": [
       "(1669, 1672)"
      ]
     },
     "execution_count": 82,
     "metadata": {},
     "output_type": "execute_result"
    }
   ],
   "source": [
    "# set up variables for the image resize\n",
    "\n",
    "scale_percent = 50\n",
    "width = int(img_shp[1] * scale_percent / 100)\n",
    "height = int(img_shp[0] * scale_percent / 100)\n",
    "dim = (width, height)"
   ]
  },
  {
   "cell_type": "code",
   "execution_count": 129,
   "id": "3c96a5ef",
   "metadata": {},
   "outputs": [
    {
     "data": {
      "text/plain": [
       "(3345, 3338, 3)"
      ]
     },
     "execution_count": 129,
     "metadata": {},
     "output_type": "execute_result"
    }
   ],
   "source": [
    "reshape_image[0].shape"
   ]
  },
  {
   "cell_type": "code",
   "execution_count": 99,
   "id": "2ec97897",
   "metadata": {},
   "outputs": [],
   "source": [
    "# resize individual images in a folder\n",
    "ls = []\n",
    "for ind_i in reshape_image:\n",
    "    ls.append(cv2.resize(ind_i, dim, interpolation = cv2.INTER_AREA))\n",
    "    "
   ]
  },
  {
   "cell_type": "code",
   "execution_count": 101,
   "id": "84736e37",
   "metadata": {
    "scrolled": true
   },
   "outputs": [
    {
     "name": "stdout",
     "output_type": "stream",
     "text": [
      "(1672, 1669, 3)\n",
      "(1672, 1669, 3)\n",
      "(1672, 1669, 3)\n",
      "(1672, 1669, 3)\n",
      "(1672, 1669, 3)\n",
      "(1672, 1669, 3)\n",
      "(1672, 1669, 3)\n",
      "(1672, 1669, 3)\n",
      "(1672, 1669, 3)\n",
      "(1672, 1669, 3)\n",
      "(1672, 1669, 3)\n",
      "(1672, 1669, 3)\n",
      "(1672, 1669, 3)\n",
      "(1672, 1669, 3)\n",
      "(1672, 1669, 3)\n",
      "(1672, 1669, 3)\n",
      "(1672, 1669, 3)\n",
      "(1672, 1669, 3)\n",
      "(1672, 1669, 3)\n",
      "(1672, 1669, 3)\n",
      "(1672, 1669, 3)\n",
      "(1672, 1669, 3)\n",
      "(1672, 1669, 3)\n"
     ]
    }
   ],
   "source": [
    "# check that the resize worked correctly\n",
    "for i in ls:\n",
    "    print(i.shape)"
   ]
  },
  {
   "cell_type": "markdown",
   "id": "010920b4",
   "metadata": {},
   "source": [
    "### Getting the target class Water"
   ]
  },
  {
   "cell_type": "code",
   "execution_count": 106,
   "id": "a199b357",
   "metadata": {},
   "outputs": [],
   "source": [
    "#open geojson training folder\n",
    "file = '/Users/kyleheidtbrink/code/kheidtbrink/sat_imagery/raw_data/train_geojson_v3/'\n",
    "\n",
    "for name in os.listdir(file):\n",
    "    files = os.walk(file)\n",
    "    geojson_files = [f[0] for f in os.walk(file)]"
   ]
  },
  {
   "cell_type": "code",
   "execution_count": 107,
   "id": "1df17271",
   "metadata": {},
   "outputs": [
    {
     "data": {
      "text/plain": [
       "['6110_4_0',\n",
       " '6070_2_3',\n",
       " '6010_1_2',\n",
       " '6040_1_0',\n",
       " '6060_2_3',\n",
       " '6100_2_3',\n",
       " '6100_2_2',\n",
       " '6170_2_4',\n",
       " '6090_2_0',\n",
       " '6110_3_1',\n",
       " '6170_4_1',\n",
       " '6110_1_2',\n",
       " '6100_1_3',\n",
       " '6120_2_0',\n",
       " '6040_4_4',\n",
       " '6150_2_3',\n",
       " '6040_1_3',\n",
       " '6010_4_2',\n",
       " '6170_0_4',\n",
       " '6010_4_4',\n",
       " '6160_2_1',\n",
       " '6140_3_1',\n",
       " '6140_1_2',\n",
       " '6040_2_2',\n",
       " '6120_2_2']"
      ]
     },
     "execution_count": 107,
     "metadata": {},
     "output_type": "execute_result"
    }
   ],
   "source": [
    "#list of all the folders inside the training folder\n",
    "geojson_folders = os.listdir(geojson_files[0])\n",
    "geojson_folders"
   ]
  },
  {
   "cell_type": "code",
   "execution_count": 108,
   "id": "ac50b74d",
   "metadata": {},
   "outputs": [
    {
     "data": {
      "text/plain": [
       "'/Users/kyleheidtbrink/code/kheidtbrink/sat_imagery/raw_data/train_geojson_v3/'"
      ]
     },
     "execution_count": 108,
     "metadata": {},
     "output_type": "execute_result"
    }
   ],
   "source": [
    "geojson_files[0]"
   ]
  },
  {
   "cell_type": "code",
   "execution_count": 109,
   "id": "ff8691fd",
   "metadata": {},
   "outputs": [],
   "source": [
    "# create a dictionary with key:image, and values:class\n",
    "geojson_per_image = {}\n",
    "\n",
    "for i in geojson_folders:\n",
    "    fichiers = os.listdir(geojson_files[0]+ f\"/{i}\")\n",
    "    geojson_per_image[i] = int(any('008' in s for s in fichiers)) #target water"
   ]
  },
  {
   "cell_type": "code",
   "execution_count": 111,
   "id": "3cfb48ea",
   "metadata": {},
   "outputs": [
    {
     "data": {
      "text/plain": [
       "{'6110_4_0': 1,\n",
       " '6070_2_3': 1,\n",
       " '6010_1_2': 0,\n",
       " '6040_1_0': 0,\n",
       " '6060_2_3': 1,\n",
       " '6100_2_3': 1,\n",
       " '6100_2_2': 1,\n",
       " '6170_2_4': 1,\n",
       " '6090_2_0': 1,\n",
       " '6110_3_1': 1,\n",
       " '6170_4_1': 0,\n",
       " '6110_1_2': 1,\n",
       " '6100_1_3': 1,\n",
       " '6120_2_0': 0,\n",
       " '6040_4_4': 0,\n",
       " '6150_2_3': 1,\n",
       " '6040_1_3': 0,\n",
       " '6010_4_2': 0,\n",
       " '6170_0_4': 1,\n",
       " '6010_4_4': 0,\n",
       " '6160_2_1': 0,\n",
       " '6140_3_1': 1,\n",
       " '6140_1_2': 1,\n",
       " '6040_2_2': 0,\n",
       " '6120_2_2': 1}"
      ]
     },
     "execution_count": 111,
     "metadata": {},
     "output_type": "execute_result"
    }
   ],
   "source": [
    "# print the dict to verify\n",
    "geojson_per_image"
   ]
  },
  {
   "cell_type": "code",
   "execution_count": 112,
   "id": "a59e5df0",
   "metadata": {},
   "outputs": [
    {
     "data": {
      "text/html": [
       "<div>\n",
       "<style scoped>\n",
       "    .dataframe tbody tr th:only-of-type {\n",
       "        vertical-align: middle;\n",
       "    }\n",
       "\n",
       "    .dataframe tbody tr th {\n",
       "        vertical-align: top;\n",
       "    }\n",
       "\n",
       "    .dataframe thead th {\n",
       "        text-align: right;\n",
       "    }\n",
       "</style>\n",
       "<table border=\"1\" class=\"dataframe\">\n",
       "  <thead>\n",
       "    <tr style=\"text-align: right;\">\n",
       "      <th></th>\n",
       "      <th>0</th>\n",
       "    </tr>\n",
       "  </thead>\n",
       "  <tbody>\n",
       "    <tr>\n",
       "      <th>6110_4_0</th>\n",
       "      <td>1</td>\n",
       "    </tr>\n",
       "    <tr>\n",
       "      <th>6070_2_3</th>\n",
       "      <td>1</td>\n",
       "    </tr>\n",
       "    <tr>\n",
       "      <th>6010_1_2</th>\n",
       "      <td>0</td>\n",
       "    </tr>\n",
       "    <tr>\n",
       "      <th>6040_1_0</th>\n",
       "      <td>0</td>\n",
       "    </tr>\n",
       "    <tr>\n",
       "      <th>6060_2_3</th>\n",
       "      <td>1</td>\n",
       "    </tr>\n",
       "    <tr>\n",
       "      <th>6100_2_3</th>\n",
       "      <td>1</td>\n",
       "    </tr>\n",
       "    <tr>\n",
       "      <th>6100_2_2</th>\n",
       "      <td>1</td>\n",
       "    </tr>\n",
       "    <tr>\n",
       "      <th>6170_2_4</th>\n",
       "      <td>1</td>\n",
       "    </tr>\n",
       "    <tr>\n",
       "      <th>6090_2_0</th>\n",
       "      <td>1</td>\n",
       "    </tr>\n",
       "    <tr>\n",
       "      <th>6110_3_1</th>\n",
       "      <td>1</td>\n",
       "    </tr>\n",
       "    <tr>\n",
       "      <th>6170_4_1</th>\n",
       "      <td>0</td>\n",
       "    </tr>\n",
       "    <tr>\n",
       "      <th>6110_1_2</th>\n",
       "      <td>1</td>\n",
       "    </tr>\n",
       "    <tr>\n",
       "      <th>6100_1_3</th>\n",
       "      <td>1</td>\n",
       "    </tr>\n",
       "    <tr>\n",
       "      <th>6120_2_0</th>\n",
       "      <td>0</td>\n",
       "    </tr>\n",
       "    <tr>\n",
       "      <th>6040_4_4</th>\n",
       "      <td>0</td>\n",
       "    </tr>\n",
       "    <tr>\n",
       "      <th>6150_2_3</th>\n",
       "      <td>1</td>\n",
       "    </tr>\n",
       "    <tr>\n",
       "      <th>6040_1_3</th>\n",
       "      <td>0</td>\n",
       "    </tr>\n",
       "    <tr>\n",
       "      <th>6010_4_2</th>\n",
       "      <td>0</td>\n",
       "    </tr>\n",
       "    <tr>\n",
       "      <th>6170_0_4</th>\n",
       "      <td>1</td>\n",
       "    </tr>\n",
       "    <tr>\n",
       "      <th>6010_4_4</th>\n",
       "      <td>0</td>\n",
       "    </tr>\n",
       "    <tr>\n",
       "      <th>6160_2_1</th>\n",
       "      <td>0</td>\n",
       "    </tr>\n",
       "    <tr>\n",
       "      <th>6140_3_1</th>\n",
       "      <td>1</td>\n",
       "    </tr>\n",
       "    <tr>\n",
       "      <th>6140_1_2</th>\n",
       "      <td>1</td>\n",
       "    </tr>\n",
       "    <tr>\n",
       "      <th>6040_2_2</th>\n",
       "      <td>0</td>\n",
       "    </tr>\n",
       "    <tr>\n",
       "      <th>6120_2_2</th>\n",
       "      <td>1</td>\n",
       "    </tr>\n",
       "  </tbody>\n",
       "</table>\n",
       "</div>"
      ],
      "text/plain": [
       "          0\n",
       "6110_4_0  1\n",
       "6070_2_3  1\n",
       "6010_1_2  0\n",
       "6040_1_0  0\n",
       "6060_2_3  1\n",
       "6100_2_3  1\n",
       "6100_2_2  1\n",
       "6170_2_4  1\n",
       "6090_2_0  1\n",
       "6110_3_1  1\n",
       "6170_4_1  0\n",
       "6110_1_2  1\n",
       "6100_1_3  1\n",
       "6120_2_0  0\n",
       "6040_4_4  0\n",
       "6150_2_3  1\n",
       "6040_1_3  0\n",
       "6010_4_2  0\n",
       "6170_0_4  1\n",
       "6010_4_4  0\n",
       "6160_2_1  0\n",
       "6140_3_1  1\n",
       "6140_1_2  1\n",
       "6040_2_2  0\n",
       "6120_2_2  1"
      ]
     },
     "execution_count": 112,
     "metadata": {},
     "output_type": "execute_result"
    }
   ],
   "source": [
    "# put the dict into a pandas dataframe\n",
    "df_target = pd.DataFrame.from_dict(geojson_per_image, orient='index')\n",
    "df_target"
   ]
  },
  {
   "cell_type": "code",
   "execution_count": 114,
   "id": "e75c8921",
   "metadata": {},
   "outputs": [
    {
     "data": {
      "text/plain": [
       "25"
      ]
     },
     "execution_count": 114,
     "metadata": {},
     "output_type": "execute_result"
    }
   ],
   "source": [
    "# explore the images and classes\n",
    "len(df_target)"
   ]
  },
  {
   "cell_type": "code",
   "execution_count": 141,
   "id": "c391ef72",
   "metadata": {},
   "outputs": [
    {
     "data": {
      "text/html": [
       "<div>\n",
       "<style scoped>\n",
       "    .dataframe tbody tr th:only-of-type {\n",
       "        vertical-align: middle;\n",
       "    }\n",
       "\n",
       "    .dataframe tbody tr th {\n",
       "        vertical-align: top;\n",
       "    }\n",
       "\n",
       "    .dataframe thead th {\n",
       "        text-align: right;\n",
       "    }\n",
       "</style>\n",
       "<table border=\"1\" class=\"dataframe\">\n",
       "  <thead>\n",
       "    <tr style=\"text-align: right;\">\n",
       "      <th></th>\n",
       "      <th>0</th>\n",
       "    </tr>\n",
       "  </thead>\n",
       "  <tbody>\n",
       "    <tr>\n",
       "      <th>6110_4_0</th>\n",
       "      <td>1</td>\n",
       "    </tr>\n",
       "    <tr>\n",
       "      <th>6070_2_3</th>\n",
       "      <td>1</td>\n",
       "    </tr>\n",
       "    <tr>\n",
       "      <th>6010_1_2</th>\n",
       "      <td>0</td>\n",
       "    </tr>\n",
       "    <tr>\n",
       "      <th>6040_1_0</th>\n",
       "      <td>0</td>\n",
       "    </tr>\n",
       "    <tr>\n",
       "      <th>6060_2_3</th>\n",
       "      <td>1</td>\n",
       "    </tr>\n",
       "    <tr>\n",
       "      <th>6100_2_3</th>\n",
       "      <td>1</td>\n",
       "    </tr>\n",
       "    <tr>\n",
       "      <th>6100_2_2</th>\n",
       "      <td>1</td>\n",
       "    </tr>\n",
       "    <tr>\n",
       "      <th>6170_2_4</th>\n",
       "      <td>1</td>\n",
       "    </tr>\n",
       "    <tr>\n",
       "      <th>6090_2_0</th>\n",
       "      <td>1</td>\n",
       "    </tr>\n",
       "    <tr>\n",
       "      <th>6110_3_1</th>\n",
       "      <td>1</td>\n",
       "    </tr>\n",
       "    <tr>\n",
       "      <th>6170_4_1</th>\n",
       "      <td>0</td>\n",
       "    </tr>\n",
       "    <tr>\n",
       "      <th>6110_1_2</th>\n",
       "      <td>1</td>\n",
       "    </tr>\n",
       "    <tr>\n",
       "      <th>6100_1_3</th>\n",
       "      <td>1</td>\n",
       "    </tr>\n",
       "    <tr>\n",
       "      <th>6120_2_0</th>\n",
       "      <td>0</td>\n",
       "    </tr>\n",
       "    <tr>\n",
       "      <th>6040_4_4</th>\n",
       "      <td>0</td>\n",
       "    </tr>\n",
       "    <tr>\n",
       "      <th>6150_2_3</th>\n",
       "      <td>1</td>\n",
       "    </tr>\n",
       "    <tr>\n",
       "      <th>6040_1_3</th>\n",
       "      <td>0</td>\n",
       "    </tr>\n",
       "    <tr>\n",
       "      <th>6010_4_2</th>\n",
       "      <td>0</td>\n",
       "    </tr>\n",
       "    <tr>\n",
       "      <th>6170_0_4</th>\n",
       "      <td>1</td>\n",
       "    </tr>\n",
       "    <tr>\n",
       "      <th>6010_4_4</th>\n",
       "      <td>0</td>\n",
       "    </tr>\n",
       "    <tr>\n",
       "      <th>6160_2_1</th>\n",
       "      <td>0</td>\n",
       "    </tr>\n",
       "    <tr>\n",
       "      <th>6140_3_1</th>\n",
       "      <td>1</td>\n",
       "    </tr>\n",
       "    <tr>\n",
       "      <th>6140_1_2</th>\n",
       "      <td>1</td>\n",
       "    </tr>\n",
       "  </tbody>\n",
       "</table>\n",
       "</div>"
      ],
      "text/plain": [
       "          0\n",
       "6110_4_0  1\n",
       "6070_2_3  1\n",
       "6010_1_2  0\n",
       "6040_1_0  0\n",
       "6060_2_3  1\n",
       "6100_2_3  1\n",
       "6100_2_2  1\n",
       "6170_2_4  1\n",
       "6090_2_0  1\n",
       "6110_3_1  1\n",
       "6170_4_1  0\n",
       "6110_1_2  1\n",
       "6100_1_3  1\n",
       "6120_2_0  0\n",
       "6040_4_4  0\n",
       "6150_2_3  1\n",
       "6040_1_3  0\n",
       "6010_4_2  0\n",
       "6170_0_4  1\n",
       "6010_4_4  0\n",
       "6160_2_1  0\n",
       "6140_3_1  1\n",
       "6140_1_2  1"
      ]
     },
     "execution_count": 141,
     "metadata": {},
     "output_type": "execute_result"
    }
   ],
   "source": [
    "y_train = df_target.head(23)\n",
    "y_train"
   ]
  },
  {
   "cell_type": "code",
   "execution_count": 142,
   "id": "52805ac7",
   "metadata": {},
   "outputs": [
    {
     "data": {
      "text/plain": [
       "23"
      ]
     },
     "execution_count": 142,
     "metadata": {},
     "output_type": "execute_result"
    }
   ],
   "source": [
    "len(ls)"
   ]
  },
  {
   "cell_type": "code",
   "execution_count": 144,
   "id": "1b0d2f27",
   "metadata": {},
   "outputs": [
    {
     "data": {
      "text/plain": [
       "(23, 1672, 1669, 3)"
      ]
     },
     "execution_count": 144,
     "metadata": {},
     "output_type": "execute_result"
    }
   ],
   "source": [
    "X_train = np.asanyarray(ls)\n",
    "X_train.shape"
   ]
  },
  {
   "cell_type": "markdown",
   "id": "57c25a1e",
   "metadata": {},
   "source": [
    "## Build the Model"
   ]
  },
  {
   "cell_type": "code",
   "execution_count": 115,
   "id": "92a65f58",
   "metadata": {},
   "outputs": [
    {
     "data": {
      "text/plain": [
       "(1672, 1669, 3)"
      ]
     },
     "execution_count": 115,
     "metadata": {},
     "output_type": "execute_result"
    }
   ],
   "source": [
    "ls[0].shape"
   ]
  },
  {
   "cell_type": "code",
   "execution_count": 130,
   "id": "a3683f52",
   "metadata": {},
   "outputs": [
    {
     "name": "stdout",
     "output_type": "stream",
     "text": [
      "128\n",
      "124\n",
      "128\n",
      "128\n",
      "129\n",
      "129\n",
      "129\n",
      "125\n",
      "128\n",
      "128\n",
      "128\n",
      "128\n",
      "129\n",
      "128\n",
      "130\n",
      "130\n",
      "128\n",
      "128\n",
      "128\n",
      "128\n",
      "128\n",
      "128\n",
      "128\n"
     ]
    }
   ],
   "source": [
    "lg_n = []\n",
    "for i in ls:\n",
    "    lg_n.append(i.max())\n",
    "    print(i.max())"
   ]
  },
  {
   "cell_type": "code",
   "execution_count": 132,
   "id": "3edcbcde",
   "metadata": {},
   "outputs": [
    {
     "data": {
      "text/plain": [
       "130"
      ]
     },
     "execution_count": 132,
     "metadata": {},
     "output_type": "execute_result"
    }
   ],
   "source": [
    "max(lg_n)"
   ]
  },
  {
   "cell_type": "code",
   "execution_count": 146,
   "id": "2d2c6765",
   "metadata": {},
   "outputs": [
    {
     "data": {
      "text/plain": [
       "(1672, 1669, 3)"
      ]
     },
     "execution_count": 146,
     "metadata": {},
     "output_type": "execute_result"
    }
   ],
   "source": [
    "X_train[0].shape"
   ]
  },
  {
   "cell_type": "code",
   "execution_count": 148,
   "id": "0a86dc20",
   "metadata": {},
   "outputs": [
    {
     "name": "stdout",
     "output_type": "stream",
     "text": [
      "Model: \"sequential_1\"\n",
      "_________________________________________________________________\n",
      "Layer (type)                 Output Shape              Param #   \n",
      "=================================================================\n",
      "rescaling_1 (Rescaling)      (None, 1672, 1669, 3)     0         \n",
      "_________________________________________________________________\n",
      "conv2d_3 (Conv2D)            (None, 1668, 1665, 16)    1216      \n",
      "_________________________________________________________________\n",
      "max_pooling2d_3 (MaxPooling2 (None, 556, 555, 16)      0         \n",
      "_________________________________________________________________\n",
      "conv2d_4 (Conv2D)            (None, 553, 552, 32)      8224      \n",
      "_________________________________________________________________\n",
      "max_pooling2d_4 (MaxPooling2 (None, 184, 184, 32)      0         \n",
      "_________________________________________________________________\n",
      "conv2d_5 (Conv2D)            (None, 182, 182, 32)      9248      \n",
      "_________________________________________________________________\n",
      "max_pooling2d_5 (MaxPooling2 (None, 60, 60, 32)        0         \n",
      "_________________________________________________________________\n",
      "flatten_1 (Flatten)          (None, 115200)            0         \n",
      "_________________________________________________________________\n",
      "dense_2 (Dense)              (None, 100)               11520100  \n",
      "_________________________________________________________________\n",
      "dense_3 (Dense)              (None, 1)                 101       \n",
      "=================================================================\n",
      "Total params: 11,538,889\n",
      "Trainable params: 11,538,889\n",
      "Non-trainable params: 0\n",
      "_________________________________________________________________\n"
     ]
    }
   ],
   "source": [
    "# Home made model\n",
    "from tensorflow.keras import Sequential, layers\n",
    "from tensorflow.keras import optimizers\n",
    "from tensorflow.keras.callbacks import EarlyStopping\n",
    "from tensorflow.keras.layers.experimental.preprocessing import Rescaling\n",
    "\n",
    "def load_own_model():\n",
    "\n",
    "    model = Sequential()\n",
    "    model.add(Rescaling(1./130, input_shape=(X_train[0].shape)))\n",
    "\n",
    "    model.add(layers.Conv2D(16, kernel_size=5, activation='relu'))\n",
    "    model.add(layers.MaxPooling2D(3))\n",
    "    \n",
    "    model.add(layers.Conv2D(32, kernel_size=4, activation=\"relu\"))\n",
    "    model.add(layers.MaxPooling2D(3))\n",
    "\n",
    "    model.add(layers.Conv2D(32, kernel_size=3, activation=\"relu\"))\n",
    "    model.add(layers.MaxPooling2D(3))\n",
    "    \n",
    "    model.add(layers.Flatten())\n",
    "    model.add(layers.Dense(100, activation='relu'))\n",
    "    model.add(layers.Dense(1, activation='sigmoid'))\n",
    "    \n",
    "    opt = optimizers.Adam(learning_rate=1e-4)\n",
    "    model.compile(loss='binary_crossentropy',\n",
    "                  optimizer=opt,\n",
    "                  metrics=['accuracy'])\n",
    "    \n",
    "    return model\n",
    "\n",
    "model = load_own_model()\n",
    "model.summary()"
   ]
  },
  {
   "cell_type": "code",
   "execution_count": 157,
   "id": "ee8cb734",
   "metadata": {},
   "outputs": [
    {
     "name": "stdout",
     "output_type": "stream",
     "text": [
      "Epoch 1/25\n",
      "2/2 [==============================] - 131s 17s/step - loss: 0.6296 - accuracy: 0.6000 - val_loss: 0.5063 - val_accuracy: 0.6667\n",
      "Epoch 2/25\n",
      "2/2 [==============================] - 159s 10s/step - loss: 0.6128 - accuracy: 0.6000 - val_loss: 0.5173 - val_accuracy: 1.0000\n",
      "Epoch 3/25\n",
      "2/2 [==============================] - 160s 19s/step - loss: 0.6008 - accuracy: 0.7500 - val_loss: 0.5192 - val_accuracy: 1.0000\n",
      "Epoch 4/25\n",
      "2/2 [==============================] - 195s 13s/step - loss: 0.5956 - accuracy: 0.8500 - val_loss: 0.5033 - val_accuracy: 1.0000\n",
      "Epoch 5/25\n",
      "2/2 [==============================] - 191s 15s/step - loss: 0.5782 - accuracy: 0.9000 - val_loss: 0.4780 - val_accuracy: 1.0000\n",
      "Epoch 6/25\n",
      "2/2 [==============================] - 138s 14s/step - loss: 0.5557 - accuracy: 0.8500 - val_loss: 0.4486 - val_accuracy: 0.6667\n",
      "Epoch 7/25\n",
      "2/2 [==============================] - 135s 11s/step - loss: 0.5677 - accuracy: 0.7000 - val_loss: 0.4261 - val_accuracy: 0.6667\n",
      "Epoch 8/25\n",
      "2/2 [==============================] - 130s 14s/step - loss: 0.5271 - accuracy: 0.8000 - val_loss: 0.4349 - val_accuracy: 1.0000\n",
      "Epoch 9/25\n",
      "2/2 [==============================] - 111s 11s/step - loss: 0.5173 - accuracy: 0.9000 - val_loss: 0.4403 - val_accuracy: 1.0000\n",
      "Epoch 10/25\n",
      "2/2 [==============================] - 138s 11s/step - loss: 0.5049 - accuracy: 0.9000 - val_loss: 0.4153 - val_accuracy: 1.0000\n",
      "Epoch 11/25\n",
      "2/2 [==============================] - 113s 11s/step - loss: 0.4846 - accuracy: 0.9000 - val_loss: 0.3873 - val_accuracy: 1.0000\n",
      "Epoch 12/25\n",
      "2/2 [==============================] - 97s 13s/step - loss: 0.4737 - accuracy: 0.8500 - val_loss: 0.3750 - val_accuracy: 1.0000\n",
      "Epoch 13/25\n",
      "2/2 [==============================] - 83s 13s/step - loss: 0.4563 - accuracy: 0.9500 - val_loss: 0.3656 - val_accuracy: 1.0000\n",
      "Epoch 14/25\n",
      "2/2 [==============================] - 89s 11s/step - loss: 0.4320 - accuracy: 0.9500 - val_loss: 0.3363 - val_accuracy: 1.0000\n",
      "Epoch 15/25\n",
      "2/2 [==============================] - 84s 14s/step - loss: 0.4203 - accuracy: 0.9500 - val_loss: 0.3068 - val_accuracy: 1.0000\n",
      "Epoch 16/25\n",
      "2/2 [==============================] - 121s 11s/step - loss: 0.4091 - accuracy: 0.9500 - val_loss: 0.2825 - val_accuracy: 1.0000\n",
      "Epoch 17/25\n",
      "2/2 [==============================] - 104s 12s/step - loss: 0.3909 - accuracy: 0.9500 - val_loss: 0.2622 - val_accuracy: 1.0000\n",
      "Epoch 18/25\n",
      "2/2 [==============================] - 104s 10s/step - loss: 0.3796 - accuracy: 0.9500 - val_loss: 0.2518 - val_accuracy: 1.0000\n",
      "Epoch 19/25\n",
      "2/2 [==============================] - 112s 11s/step - loss: 0.3815 - accuracy: 0.9500 - val_loss: 0.2415 - val_accuracy: 1.0000\n",
      "Epoch 20/25\n",
      "2/2 [==============================] - 157s 12s/step - loss: 0.3468 - accuracy: 0.9500 - val_loss: 0.2764 - val_accuracy: 1.0000\n",
      "Epoch 21/25\n",
      "2/2 [==============================] - 139s 12s/step - loss: 0.3588 - accuracy: 0.9000 - val_loss: 0.2837 - val_accuracy: 1.0000\n",
      "Epoch 22/25\n",
      "2/2 [==============================] - 190s 27s/step - loss: 0.3481 - accuracy: 0.9000 - val_loss: 0.2312 - val_accuracy: 1.0000\n",
      "Epoch 23/25\n",
      "2/2 [==============================] - 234s 23s/step - loss: 0.2982 - accuracy: 0.9000 - val_loss: 0.2197 - val_accuracy: 1.0000\n",
      "Epoch 24/25\n",
      "2/2 [==============================] - 175s 13s/step - loss: 0.3228 - accuracy: 0.9500 - val_loss: 0.2039 - val_accuracy: 1.0000\n",
      "Epoch 25/25\n",
      "2/2 [==============================] - 121s 13s/step - loss: 0.2931 - accuracy: 0.9500 - val_loss: 0.2052 - val_accuracy: 1.0000\n"
     ]
    },
    {
     "data": {
      "text/plain": [
       "<tensorflow.python.keras.callbacks.History at 0x1644ad520>"
      ]
     },
     "execution_count": 157,
     "metadata": {},
     "output_type": "execute_result"
    }
   ],
   "source": [
    "es = EarlyStopping(mode='max', patience=5, restore_best_weights=True)\n",
    "\n",
    "model.fit(X_train, y_train,\n",
    "         batch_size=16,validation_split=0.1, \n",
    "         epochs=25,verbose=1)"
   ]
  },
  {
   "cell_type": "markdown",
   "id": "2e1ca62b",
   "metadata": {},
   "source": [
    "## First Run\n",
    "Epoch 1/10\n",
    "2/2 [==============================] - 148s 21s/step - loss: 1.2738 - accuracy: 0.6087\n",
    "Epoch 2/10\n",
    "2/2 [==============================] - 122s 17s/step - loss: 0.8995 - accuracy: 0.4783\n",
    "Epoch 3/10\n",
    "2/2 [==============================] - 130s 19s/step - loss: 1.0050 - accuracy: 0.3913\n",
    "Epoch 4/10\n",
    "2/2 [==============================] - 118s 21s/step - loss: 0.8076 - accuracy: 0.3913\n",
    "Epoch 5/10\n",
    "2/2 [==============================] - 145s 16s/step - loss: 0.6834 - accuracy: 0.3478\n",
    "Epoch 6/10\n",
    "2/2 [==============================] - 141s 20s/step - loss: 0.6296 - accuracy: 0.6087\n",
    "Epoch 7/10\n",
    "2/2 [==============================] - 120s 14s/step - loss: 0.6499 - accuracy: 0.6087\n",
    "Epoch 8/10\n",
    "2/2 [==============================] - 137s 17s/step - loss: 0.6765 - accuracy: 0.6087\n",
    "Epoch 9/10\n",
    "2/2 [==============================] - 114s 19s/step - loss: 0.6822 - accuracy: 0.6087\n",
    "Epoch 10/10\n",
    "2/2 [==============================] - 125s 15s/step - loss: 0.6511 - accuracy: 0.6087\n",
    "<tensorflow.python.keras.callbacks.History at 0x162800cd0>"
   ]
  },
  {
   "cell_type": "code",
   "execution_count": 154,
   "id": "c6661d38",
   "metadata": {},
   "outputs": [
    {
     "data": {
      "text/plain": [
       "14"
      ]
     },
     "execution_count": 154,
     "metadata": {},
     "output_type": "execute_result"
    }
   ],
   "source": [
    "y_train.value_counts().max()"
   ]
  },
  {
   "cell_type": "code",
   "execution_count": 156,
   "id": "82005487",
   "metadata": {},
   "outputs": [
    {
     "data": {
      "text/plain": [
       "0.6086956521739131"
      ]
     },
     "execution_count": 156,
     "metadata": {},
     "output_type": "execute_result"
    }
   ],
   "source": [
    "baseline_model = y_train.value_counts().max()/len(y_train)\n",
    "baseline_model"
   ]
  },
  {
   "cell_type": "code",
   "execution_count": null,
   "id": "211aece7",
   "metadata": {},
   "outputs": [],
   "source": []
  }
 ],
 "metadata": {
  "kernelspec": {
   "display_name": "Python 3",
   "language": "python",
   "name": "python3"
  },
  "language_info": {
   "codemirror_mode": {
    "name": "ipython",
    "version": 3
   },
   "file_extension": ".py",
   "mimetype": "text/x-python",
   "name": "python",
   "nbconvert_exporter": "python",
   "pygments_lexer": "ipython3",
   "version": "3.8.6"
  },
  "toc": {
   "base_numbering": 1,
   "nav_menu": {},
   "number_sections": true,
   "sideBar": true,
   "skip_h1_title": false,
   "title_cell": "Table of Contents",
   "title_sidebar": "Contents",
   "toc_cell": false,
   "toc_position": {},
   "toc_section_display": true,
   "toc_window_display": false
  }
 },
 "nbformat": 4,
 "nbformat_minor": 5
}
