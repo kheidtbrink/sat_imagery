{
 "cells": [
  {
   "cell_type": "code",
   "execution_count": 1,
   "id": "c6f999bb",
   "metadata": {},
   "outputs": [],
   "source": [
    "# Imports\n",
    "import pandas as pd\n",
    "import numpy as np\n",
    "import tifffile as tif\n",
    "import matplotlib.pyplot as plt\n",
    "import os, gc, glob\n",
    "import json \n",
    "from shapely import wkt\n",
    "from PIL import Image\n",
    "from tensorflow.keras import layers\n",
    "from tensorflow.keras import Sequential\n",
    "import geopandas as gdp\n"
   ]
  },
  {
   "cell_type": "code",
   "execution_count": 2,
   "id": "f4c61ace",
   "metadata": {},
   "outputs": [
    {
     "name": "stdout",
     "output_type": "stream",
     "text": [
      "6010_1_2.tif\n"
     ]
    }
   ],
   "source": [
    "# Load image from directory\n",
    "dirname = '/Users/kyleheidtbrink/code/kheidtbrink/sat_imagery/raw_data/temp2/'  # absolute path\n",
    "tif_files = []   # list which will contain array of individual tif files\n",
    "# iterate through the file directory\n",
    "for fname in os.listdir(dirname):\n",
    "    print(fname)\n",
    "    im = Image.open(os.path.join(dirname, fname))\n",
    "    imarray = np.array(im)\n",
    "    tif_files.append(imarray)"
   ]
  },
  {
   "cell_type": "code",
   "execution_count": 3,
   "id": "5884b607",
   "metadata": {},
   "outputs": [
    {
     "data": {
      "text/plain": [
       "1"
      ]
     },
     "execution_count": 3,
     "metadata": {},
     "output_type": "execute_result"
    }
   ],
   "source": [
    "len(tif_files)"
   ]
  },
  {
   "cell_type": "code",
   "execution_count": 4,
   "id": "b0146261",
   "metadata": {},
   "outputs": [
    {
     "name": "stdout",
     "output_type": "stream",
     "text": [
      "(3349, 3396, 3)\n"
     ]
    }
   ],
   "source": [
    "# explore the shape of the files\n",
    "array_shape = []\n",
    "for i in tif_files:\n",
    "    print(i.shape)\n",
    "    array_shape.append(i.shape)"
   ]
  },
  {
   "cell_type": "code",
   "execution_count": 5,
   "id": "98b7be7c",
   "metadata": {},
   "outputs": [
    {
     "data": {
      "text/html": [
       "<div>\n",
       "<style scoped>\n",
       "    .dataframe tbody tr th:only-of-type {\n",
       "        vertical-align: middle;\n",
       "    }\n",
       "\n",
       "    .dataframe tbody tr th {\n",
       "        vertical-align: top;\n",
       "    }\n",
       "\n",
       "    .dataframe thead th {\n",
       "        text-align: right;\n",
       "    }\n",
       "</style>\n",
       "<table border=\"1\" class=\"dataframe\">\n",
       "  <thead>\n",
       "    <tr style=\"text-align: right;\">\n",
       "      <th></th>\n",
       "      <th>0</th>\n",
       "      <th>1</th>\n",
       "      <th>2</th>\n",
       "    </tr>\n",
       "  </thead>\n",
       "  <tbody>\n",
       "    <tr>\n",
       "      <th>0</th>\n",
       "      <td>3349</td>\n",
       "      <td>3396</td>\n",
       "      <td>3</td>\n",
       "    </tr>\n",
       "  </tbody>\n",
       "</table>\n",
       "</div>"
      ],
      "text/plain": [
       "      0     1  2\n",
       "0  3349  3396  3"
      ]
     },
     "execution_count": 5,
     "metadata": {},
     "output_type": "execute_result"
    }
   ],
   "source": [
    "# get the min and max values of the shape of the images \n",
    "df_shape = pd.DataFrame(array_shape)\n",
    "df_shape.head(3)"
   ]
  },
  {
   "cell_type": "code",
   "execution_count": 6,
   "id": "cdd215e2",
   "metadata": {},
   "outputs": [
    {
     "data": {
      "text/plain": [
       "3349"
      ]
     },
     "execution_count": 6,
     "metadata": {},
     "output_type": "execute_result"
    }
   ],
   "source": [
    "# X shape min\n",
    "x_min = df_shape[0].min()\n",
    "x_min"
   ]
  },
  {
   "cell_type": "code",
   "execution_count": 7,
   "id": "8ed23793",
   "metadata": {},
   "outputs": [
    {
     "data": {
      "text/plain": [
       "3396"
      ]
     },
     "execution_count": 7,
     "metadata": {},
     "output_type": "execute_result"
    }
   ],
   "source": [
    "# y shape min\n",
    "y_min = df_shape[1].min()\n",
    "y_min"
   ]
  },
  {
   "cell_type": "code",
   "execution_count": 8,
   "id": "b011fd76",
   "metadata": {},
   "outputs": [],
   "source": [
    "# reshape the individual images using a using numpy slicing\n",
    "\n",
    "reshape_image = []\n",
    "for image in tif_files:\n",
    "    #print(image)\n",
    "    reshape_image.append(image[:x_min,:y_min])"
   ]
  },
  {
   "cell_type": "code",
   "execution_count": 9,
   "id": "f6ebd158",
   "metadata": {},
   "outputs": [
    {
     "name": "stdout",
     "output_type": "stream",
     "text": [
      "(3349, 3396, 3)\n"
     ]
    }
   ],
   "source": [
    "# verify the image shapes are equal \n",
    "for i in reshape_image:\n",
    "    print(i.shape)"
   ]
  },
  {
   "cell_type": "code",
   "execution_count": 10,
   "id": "cd0c0b8f",
   "metadata": {},
   "outputs": [
    {
     "data": {
      "text/plain": [
       "(1, 3349, 3396, 3)"
      ]
     },
     "execution_count": 10,
     "metadata": {},
     "output_type": "execute_result"
    }
   ],
   "source": [
    "X_train = np.asarray(reshape_image)\n",
    "X_train.shape\n"
   ]
  },
  {
   "cell_type": "markdown",
   "id": "7003a8fd",
   "metadata": {},
   "source": [
    "## Merging Weiyi's Shit"
   ]
  },
  {
   "cell_type": "code",
   "execution_count": 11,
   "id": "c05d79ba",
   "metadata": {},
   "outputs": [],
   "source": [
    "#open geojson training folder\n",
    "file = '/Users/kyleheidtbrink/code/kheidtbrink/sat_imagery/raw_data/train_geojson_v3/'\n",
    "\n",
    "for name in os.listdir(file):\n",
    "    files = os.walk(file)\n",
    "    geojson_files = [f[0] for f in os.walk(file)]"
   ]
  },
  {
   "cell_type": "code",
   "execution_count": 12,
   "id": "ca77513c",
   "metadata": {},
   "outputs": [
    {
     "data": {
      "text/plain": [
       "['6110_4_0',\n",
       " '6070_2_3',\n",
       " '6010_1_2',\n",
       " '6040_1_0',\n",
       " '6060_2_3',\n",
       " '6100_2_3',\n",
       " '6100_2_2',\n",
       " '6170_2_4',\n",
       " '6090_2_0',\n",
       " '6110_3_1',\n",
       " '6170_4_1',\n",
       " '6110_1_2',\n",
       " '6100_1_3',\n",
       " '6120_2_0',\n",
       " '6040_4_4',\n",
       " '6150_2_3',\n",
       " '6040_1_3',\n",
       " '6010_4_2',\n",
       " '6170_0_4',\n",
       " '6010_4_4',\n",
       " '6160_2_1',\n",
       " '6140_3_1',\n",
       " '6140_1_2',\n",
       " '6040_2_2',\n",
       " '6120_2_2']"
      ]
     },
     "execution_count": 12,
     "metadata": {},
     "output_type": "execute_result"
    }
   ],
   "source": [
    "geojson_folders = os.listdir(geojson_files[0]) #list of all the folders inside the training folder\n",
    "geojson_folders"
   ]
  },
  {
   "cell_type": "code",
   "execution_count": 13,
   "id": "01d20cd4",
   "metadata": {},
   "outputs": [
    {
     "data": {
      "text/plain": [
       "'/Users/kyleheidtbrink/code/kheidtbrink/sat_imagery/raw_data/train_geojson_v3/'"
      ]
     },
     "execution_count": 13,
     "metadata": {},
     "output_type": "execute_result"
    }
   ],
   "source": [
    "geojson_files[0]"
   ]
  },
  {
   "cell_type": "code",
   "execution_count": 14,
   "id": "61d5a1ce",
   "metadata": {},
   "outputs": [],
   "source": [
    "geojson_per_image = {}\n",
    "\n",
    "for i in geojson_folders:\n",
    "    fichiers = os.listdir(geojson_files[0]+ f\"/{i}\")\n",
    "    geojson_per_image[i] = int(any('008' in s for s in fichiers)) #target water"
   ]
  },
  {
   "cell_type": "code",
   "execution_count": 15,
   "id": "c64c050f",
   "metadata": {},
   "outputs": [
    {
     "data": {
      "text/plain": [
       "{'6110_4_0': 1,\n",
       " '6070_2_3': 1,\n",
       " '6010_1_2': 0,\n",
       " '6040_1_0': 0,\n",
       " '6060_2_3': 1,\n",
       " '6100_2_3': 1,\n",
       " '6100_2_2': 1,\n",
       " '6170_2_4': 1,\n",
       " '6090_2_0': 1,\n",
       " '6110_3_1': 1,\n",
       " '6170_4_1': 0,\n",
       " '6110_1_2': 1,\n",
       " '6100_1_3': 1,\n",
       " '6120_2_0': 0,\n",
       " '6040_4_4': 0,\n",
       " '6150_2_3': 1,\n",
       " '6040_1_3': 0,\n",
       " '6010_4_2': 0,\n",
       " '6170_0_4': 1,\n",
       " '6010_4_4': 0,\n",
       " '6160_2_1': 0,\n",
       " '6140_3_1': 1,\n",
       " '6140_1_2': 1,\n",
       " '6040_2_2': 0,\n",
       " '6120_2_2': 1}"
      ]
     },
     "execution_count": 15,
     "metadata": {},
     "output_type": "execute_result"
    }
   ],
   "source": [
    "geojson_per_image"
   ]
  },
  {
   "cell_type": "code",
   "execution_count": 16,
   "id": "dbe746b4",
   "metadata": {},
   "outputs": [
    {
     "data": {
      "text/html": [
       "<div>\n",
       "<style scoped>\n",
       "    .dataframe tbody tr th:only-of-type {\n",
       "        vertical-align: middle;\n",
       "    }\n",
       "\n",
       "    .dataframe tbody tr th {\n",
       "        vertical-align: top;\n",
       "    }\n",
       "\n",
       "    .dataframe thead th {\n",
       "        text-align: right;\n",
       "    }\n",
       "</style>\n",
       "<table border=\"1\" class=\"dataframe\">\n",
       "  <thead>\n",
       "    <tr style=\"text-align: right;\">\n",
       "      <th></th>\n",
       "      <th>0</th>\n",
       "    </tr>\n",
       "  </thead>\n",
       "  <tbody>\n",
       "    <tr>\n",
       "      <th>6110_4_0</th>\n",
       "      <td>1</td>\n",
       "    </tr>\n",
       "    <tr>\n",
       "      <th>6070_2_3</th>\n",
       "      <td>1</td>\n",
       "    </tr>\n",
       "    <tr>\n",
       "      <th>6010_1_2</th>\n",
       "      <td>0</td>\n",
       "    </tr>\n",
       "    <tr>\n",
       "      <th>6040_1_0</th>\n",
       "      <td>0</td>\n",
       "    </tr>\n",
       "    <tr>\n",
       "      <th>6060_2_3</th>\n",
       "      <td>1</td>\n",
       "    </tr>\n",
       "    <tr>\n",
       "      <th>6100_2_3</th>\n",
       "      <td>1</td>\n",
       "    </tr>\n",
       "    <tr>\n",
       "      <th>6100_2_2</th>\n",
       "      <td>1</td>\n",
       "    </tr>\n",
       "    <tr>\n",
       "      <th>6170_2_4</th>\n",
       "      <td>1</td>\n",
       "    </tr>\n",
       "    <tr>\n",
       "      <th>6090_2_0</th>\n",
       "      <td>1</td>\n",
       "    </tr>\n",
       "    <tr>\n",
       "      <th>6110_3_1</th>\n",
       "      <td>1</td>\n",
       "    </tr>\n",
       "    <tr>\n",
       "      <th>6170_4_1</th>\n",
       "      <td>0</td>\n",
       "    </tr>\n",
       "    <tr>\n",
       "      <th>6110_1_2</th>\n",
       "      <td>1</td>\n",
       "    </tr>\n",
       "    <tr>\n",
       "      <th>6100_1_3</th>\n",
       "      <td>1</td>\n",
       "    </tr>\n",
       "    <tr>\n",
       "      <th>6120_2_0</th>\n",
       "      <td>0</td>\n",
       "    </tr>\n",
       "    <tr>\n",
       "      <th>6040_4_4</th>\n",
       "      <td>0</td>\n",
       "    </tr>\n",
       "    <tr>\n",
       "      <th>6150_2_3</th>\n",
       "      <td>1</td>\n",
       "    </tr>\n",
       "    <tr>\n",
       "      <th>6040_1_3</th>\n",
       "      <td>0</td>\n",
       "    </tr>\n",
       "    <tr>\n",
       "      <th>6010_4_2</th>\n",
       "      <td>0</td>\n",
       "    </tr>\n",
       "    <tr>\n",
       "      <th>6170_0_4</th>\n",
       "      <td>1</td>\n",
       "    </tr>\n",
       "    <tr>\n",
       "      <th>6010_4_4</th>\n",
       "      <td>0</td>\n",
       "    </tr>\n",
       "    <tr>\n",
       "      <th>6160_2_1</th>\n",
       "      <td>0</td>\n",
       "    </tr>\n",
       "    <tr>\n",
       "      <th>6140_3_1</th>\n",
       "      <td>1</td>\n",
       "    </tr>\n",
       "    <tr>\n",
       "      <th>6140_1_2</th>\n",
       "      <td>1</td>\n",
       "    </tr>\n",
       "    <tr>\n",
       "      <th>6040_2_2</th>\n",
       "      <td>0</td>\n",
       "    </tr>\n",
       "    <tr>\n",
       "      <th>6120_2_2</th>\n",
       "      <td>1</td>\n",
       "    </tr>\n",
       "  </tbody>\n",
       "</table>\n",
       "</div>"
      ],
      "text/plain": [
       "          0\n",
       "6110_4_0  1\n",
       "6070_2_3  1\n",
       "6010_1_2  0\n",
       "6040_1_0  0\n",
       "6060_2_3  1\n",
       "6100_2_3  1\n",
       "6100_2_2  1\n",
       "6170_2_4  1\n",
       "6090_2_0  1\n",
       "6110_3_1  1\n",
       "6170_4_1  0\n",
       "6110_1_2  1\n",
       "6100_1_3  1\n",
       "6120_2_0  0\n",
       "6040_4_4  0\n",
       "6150_2_3  1\n",
       "6040_1_3  0\n",
       "6010_4_2  0\n",
       "6170_0_4  1\n",
       "6010_4_4  0\n",
       "6160_2_1  0\n",
       "6140_3_1  1\n",
       "6140_1_2  1\n",
       "6040_2_2  0\n",
       "6120_2_2  1"
      ]
     },
     "execution_count": 16,
     "metadata": {},
     "output_type": "execute_result"
    }
   ],
   "source": [
    "df_target = pd.DataFrame.from_dict(geojson_per_image, orient='index')\n",
    "df_target\n"
   ]
  },
  {
   "cell_type": "code",
   "execution_count": 17,
   "id": "814a7755",
   "metadata": {},
   "outputs": [
    {
     "data": {
      "text/plain": [
       "25"
      ]
     },
     "execution_count": 17,
     "metadata": {},
     "output_type": "execute_result"
    }
   ],
   "source": [
    "len(df_target)"
   ]
  },
  {
   "cell_type": "code",
   "execution_count": 18,
   "id": "c0d448f5",
   "metadata": {},
   "outputs": [
    {
     "data": {
      "text/plain": [
       "(1, 3349, 3396, 3)"
      ]
     },
     "execution_count": 18,
     "metadata": {},
     "output_type": "execute_result"
    }
   ],
   "source": [
    "X_train.shape"
   ]
  },
  {
   "cell_type": "code",
   "execution_count": 19,
   "id": "4a5763a1",
   "metadata": {},
   "outputs": [
    {
     "data": {
      "text/plain": [
       "array([0])"
      ]
     },
     "execution_count": 19,
     "metadata": {},
     "output_type": "execute_result"
    }
   ],
   "source": [
    "y_train = np.asanyarray([0])\n",
    "y_train"
   ]
  },
  {
   "cell_type": "code",
   "execution_count": 20,
   "id": "1f620d83",
   "metadata": {},
   "outputs": [],
   "source": [
    "#tf.image.resize(\n",
    " #   images, size, method=ResizeMethod.BILINEAR, preserve_aspect_ratio=False,\n",
    "  #  antialias=False, name=None\n",
    "#)\n"
   ]
  },
  {
   "cell_type": "code",
   "execution_count": 21,
   "id": "f51761ba",
   "metadata": {},
   "outputs": [],
   "source": [
    "def initialize_model():\n",
    "    model = Sequential()\n",
    "    model.add(layers.Conv2D(16, activation = 'relu', kernel_size=(300,300),input_shape=(3349, 3396, 3)))\n",
    "    model.add(layers.MaxPool2D(pool_size=(2,2)))\n",
    "    #model.add(layers.Reshape((3348,3338),input_shape=(3348, 3338, 3)))\n",
    "    #model.add(layers.Conv2D(16, activation = 'relu', kernel_size=(150,150)))\n",
    "    #model.add(layers.MaxPool2D(pool_size=(2,2)))          \n",
    "    model.add(layers.Flatten())\n",
    "    model.add(layers.Dense(8, activation = 'relu'))          \n",
    "    model.add(layers.Dense(1, activation = 'sigmoid'))\n",
    "    model.compile(loss='binary_crossentropy', optimizer = 'adam', metrics='accuracy')\n",
    "    #model.fit(X_train,y_train)\n",
    "    return model"
   ]
  },
  {
   "cell_type": "code",
   "execution_count": 22,
   "id": "0a342575",
   "metadata": {},
   "outputs": [],
   "source": [
    "model=initialize_model()\n"
   ]
  },
  {
   "cell_type": "code",
   "execution_count": null,
   "id": "54cdc084",
   "metadata": {},
   "outputs": [
    {
     "name": "stdout",
     "output_type": "stream",
     "text": [
      "Epoch 1/3\n"
     ]
    }
   ],
   "source": [
    "from tensorflow.keras.callbacks import EarlyStopping\n",
    "es = EarlyStopping(patience=1)\n",
    "\n",
    "model.fit(X_train,y_train, epochs=3)"
   ]
  },
  {
   "cell_type": "markdown",
   "id": "984be88a",
   "metadata": {},
   "source": [
    "## Let's try try to predict something "
   ]
  },
  {
   "cell_type": "code",
   "execution_count": null,
   "id": "fe2dd0cb",
   "metadata": {},
   "outputs": [],
   "source": [
    "#import tensorflow as tf\n",
    "#tf.trainable_variables()"
   ]
  },
  {
   "cell_type": "code",
   "execution_count": null,
   "id": "0573bcb7",
   "metadata": {},
   "outputs": [],
   "source": [
    "# Prepare a predict\n",
    "\n",
    "# Load image from directory\n",
    "dirname = '/Users/kyleheidtbrink/code/kheidtbrink/sat_imagery/raw_data/predict/'  # absolute path\n",
    "predict = []   # list which will contain array of individual tif files\n",
    "# iterate through the file directory\n",
    "for fname in os.listdir(dirname):\n",
    "    print(fname)\n",
    "    im = Image.open(os.path.join(dirname, fname))\n",
    "    imarray = np.array(im)\n",
    "    predict.append(imarray)"
   ]
  },
  {
   "cell_type": "code",
   "execution_count": null,
   "id": "a87e02f4",
   "metadata": {},
   "outputs": [],
   "source": [
    "# explore the shape of the files\n",
    "predict_shape = []\n",
    "for i in predict:\n",
    "    print(i.shape)\n",
    "    array_shape.append(i.shape)"
   ]
  },
  {
   "cell_type": "code",
   "execution_count": null,
   "id": "be0f575a",
   "metadata": {},
   "outputs": [],
   "source": [
    "# put the the data into a numpy array\n",
    "array_pred = np.asanyarray(predict)\n",
    "array_pred.shape"
   ]
  },
  {
   "cell_type": "code",
   "execution_count": null,
   "id": "2700b5f7",
   "metadata": {},
   "outputs": [],
   "source": [
    "y_test0 = np.array([0])\n",
    "y_test0.shape"
   ]
  },
  {
   "cell_type": "code",
   "execution_count": null,
   "id": "bafd457d",
   "metadata": {},
   "outputs": [],
   "source": [
    "y_test1 = np.array([1])\n",
    "y_test1.shape"
   ]
  },
  {
   "cell_type": "code",
   "execution_count": null,
   "id": "8114827d",
   "metadata": {},
   "outputs": [],
   "source": [
    "#first trial predict\n",
    "\n",
    "model.predict(array_pred)"
   ]
  },
  {
   "cell_type": "code",
   "execution_count": null,
   "id": "1c13bd16",
   "metadata": {},
   "outputs": [],
   "source": [
    "#array_pred.shape"
   ]
  },
  {
   "cell_type": "code",
   "execution_count": null,
   "id": "e0141a5e",
   "metadata": {},
   "outputs": [],
   "source": [
    "#X_train.shape"
   ]
  },
  {
   "cell_type": "code",
   "execution_count": null,
   "id": "0c35e385",
   "metadata": {
    "scrolled": true
   },
   "outputs": [],
   "source": [
    "#x_test = array_pred[0,:,:,:]\n",
    "#x_test.shape"
   ]
  },
  {
   "cell_type": "code",
   "execution_count": null,
   "id": "fddcb542",
   "metadata": {},
   "outputs": [],
   "source": [
    "#a = np.append(x_test,x_test[])\n"
   ]
  },
  {
   "cell_type": "code",
   "execution_count": null,
   "id": "8b1554ca",
   "metadata": {},
   "outputs": [],
   "source": [
    "#reshape_image = []\n",
    "\n",
    " #   reshape_image.append(image[:x_min,:y_min])"
   ]
  },
  {
   "cell_type": "code",
   "execution_count": null,
   "id": "443c7ff5",
   "metadata": {},
   "outputs": [],
   "source": [
    "pic = tif.imread('/Users/kyleheidtbrink/code/kheidtbrink/sat_imagery/raw_data/sixteen_band/6010_0_1_P.tif') \n",
    "tif.imshow(pic,cmap='gray')"
   ]
  },
  {
   "cell_type": "code",
   "execution_count": null,
   "id": "825bb5bc",
   "metadata": {},
   "outputs": [],
   "source": []
  }
 ],
 "metadata": {
  "kernelspec": {
   "display_name": "Python 3",
   "language": "python",
   "name": "python3"
  },
  "language_info": {
   "codemirror_mode": {
    "name": "ipython",
    "version": 3
   },
   "file_extension": ".py",
   "mimetype": "text/x-python",
   "name": "python",
   "nbconvert_exporter": "python",
   "pygments_lexer": "ipython3",
   "version": "3.8.6"
  },
  "toc": {
   "base_numbering": 1,
   "nav_menu": {},
   "number_sections": true,
   "sideBar": true,
   "skip_h1_title": false,
   "title_cell": "Table of Contents",
   "title_sidebar": "Contents",
   "toc_cell": false,
   "toc_position": {},
   "toc_section_display": true,
   "toc_window_display": false
  }
 },
 "nbformat": 4,
 "nbformat_minor": 5
}
