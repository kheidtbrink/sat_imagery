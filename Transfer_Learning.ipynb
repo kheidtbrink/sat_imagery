{
 "cells": [
  {
   "cell_type": "code",
   "execution_count": 59,
   "id": "c6f999bb",
   "metadata": {},
   "outputs": [],
   "source": [
    "# Imports\n",
    "import pandas as pd\n",
    "import numpy as np\n",
    "import tifffile as tif\n",
    "import matplotlib.pyplot as plt\n",
    "import os, gc, glob\n",
    "import json \n",
    "from shapely import wkt\n",
    "from PIL import Image\n",
    "from tensorflow.keras import layers\n",
    "from tensorflow.keras import Sequential\n",
    "import geopandas as gdp\n",
    "import cv2"
   ]
  },
  {
   "cell_type": "code",
   "execution_count": 70,
   "id": "4d7992c9",
   "metadata": {
    "scrolled": false
   },
   "outputs": [
    {
     "name": "stdout",
     "output_type": "stream",
     "text": [
      "Original Dimensions :  (3349, 3396, 3)\n",
      "Resized Dimensions :  (334, 339, 3)\n"
     ]
    }
   ],
   "source": [
    "# Reduce image size\n",
    " \n",
    "img = cv2.imread('/Users/kyleheidtbrink/code/kheidtbrink/sat_imagery/raw_data/temp2/6010_1_2.tif', cv2.IMREAD_UNCHANGED)\n",
    " \n",
    "print('Original Dimensions : ',img.shape)\n",
    " \n",
    "scale_percent = 10 # percent of original size\n",
    "width = int(img.shape[1] * scale_percent / 100)\n",
    "height = int(img.shape[0] * scale_percent / 100)\n",
    "dim = (width, height)\n",
    "  \n",
    "# resize image\n",
    "resized = cv2.resize(img, dim, interpolation = cv2.INTER_AREA)\n",
    " \n",
    "print('Resized Dimensions : ',resized.shape)\n",
    " \n"
   ]
  },
  {
   "cell_type": "code",
   "execution_count": 71,
   "id": "d5745290",
   "metadata": {},
   "outputs": [
    {
     "data": {
      "text/plain": [
       "numpy.ndarray"
      ]
     },
     "execution_count": 71,
     "metadata": {},
     "output_type": "execute_result"
    }
   ],
   "source": [
    "type(resized)"
   ]
  },
  {
   "cell_type": "code",
   "execution_count": 72,
   "id": "878420fb",
   "metadata": {},
   "outputs": [
    {
     "data": {
      "text/plain": [
       "(334, 339, 3)"
      ]
     },
     "execution_count": 72,
     "metadata": {},
     "output_type": "execute_result"
    }
   ],
   "source": [
    "resized.shape"
   ]
  },
  {
   "cell_type": "code",
   "execution_count": 81,
   "id": "cf580669",
   "metadata": {},
   "outputs": [
    {
     "data": {
      "text/plain": [
       "493"
      ]
     },
     "execution_count": 81,
     "metadata": {},
     "output_type": "execute_result"
    }
   ],
   "source": [
    "resized[:,:,2].max()"
   ]
  },
  {
   "cell_type": "code",
   "execution_count": 82,
   "id": "d052d09c",
   "metadata": {},
   "outputs": [
    {
     "data": {
      "text/plain": [
       "(1, 334, 339, 3)"
      ]
     },
     "execution_count": 82,
     "metadata": {},
     "output_type": "execute_result"
    }
   ],
   "source": [
    "resized_exp = np.expand_dims(resized,axis=0)\n",
    "resized_exp.shape"
   ]
  },
  {
   "cell_type": "code",
   "execution_count": 83,
   "id": "cd0c0b8f",
   "metadata": {},
   "outputs": [
    {
     "data": {
      "text/plain": [
       "(1, 334, 339, 3)"
      ]
     },
     "execution_count": 83,
     "metadata": {},
     "output_type": "execute_result"
    }
   ],
   "source": [
    "X_train = resized_exp\n",
    "X_train.shape\n"
   ]
  },
  {
   "cell_type": "markdown",
   "id": "7003a8fd",
   "metadata": {},
   "source": [
    "## Merging Weiyi's Shit"
   ]
  },
  {
   "cell_type": "code",
   "execution_count": 84,
   "id": "c05d79ba",
   "metadata": {},
   "outputs": [],
   "source": [
    "#open geojson training folder\n",
    "file = '/Users/kyleheidtbrink/code/kheidtbrink/sat_imagery/raw_data/train_geojson_v3/'\n",
    "\n",
    "for name in os.listdir(file):\n",
    "    files = os.walk(file)\n",
    "    geojson_files = [f[0] for f in os.walk(file)]"
   ]
  },
  {
   "cell_type": "code",
   "execution_count": 85,
   "id": "ca77513c",
   "metadata": {},
   "outputs": [
    {
     "data": {
      "text/plain": [
       "['6110_4_0',\n",
       " '6070_2_3',\n",
       " '6010_1_2',\n",
       " '6040_1_0',\n",
       " '6060_2_3',\n",
       " '6100_2_3',\n",
       " '6100_2_2',\n",
       " '6170_2_4',\n",
       " '6090_2_0',\n",
       " '6110_3_1',\n",
       " '6170_4_1',\n",
       " '6110_1_2',\n",
       " '6100_1_3',\n",
       " '6120_2_0',\n",
       " '6040_4_4',\n",
       " '6150_2_3',\n",
       " '6040_1_3',\n",
       " '6010_4_2',\n",
       " '6170_0_4',\n",
       " '6010_4_4',\n",
       " '6160_2_1',\n",
       " '6140_3_1',\n",
       " '6140_1_2',\n",
       " '6040_2_2',\n",
       " '6120_2_2']"
      ]
     },
     "execution_count": 85,
     "metadata": {},
     "output_type": "execute_result"
    }
   ],
   "source": [
    "geojson_folders = os.listdir(geojson_files[0]) #list of all the folders inside the training folder\n",
    "geojson_folders"
   ]
  },
  {
   "cell_type": "code",
   "execution_count": 86,
   "id": "01d20cd4",
   "metadata": {},
   "outputs": [
    {
     "data": {
      "text/plain": [
       "'/Users/kyleheidtbrink/code/kheidtbrink/sat_imagery/raw_data/train_geojson_v3/'"
      ]
     },
     "execution_count": 86,
     "metadata": {},
     "output_type": "execute_result"
    }
   ],
   "source": [
    "geojson_files[0]"
   ]
  },
  {
   "cell_type": "code",
   "execution_count": 87,
   "id": "61d5a1ce",
   "metadata": {},
   "outputs": [],
   "source": [
    "geojson_per_image = {}\n",
    "\n",
    "for i in geojson_folders:\n",
    "    fichiers = os.listdir(geojson_files[0]+ f\"/{i}\")\n",
    "    geojson_per_image[i] = int(any('008' in s for s in fichiers)) #target water"
   ]
  },
  {
   "cell_type": "code",
   "execution_count": 88,
   "id": "c64c050f",
   "metadata": {},
   "outputs": [
    {
     "data": {
      "text/plain": [
       "{'6110_4_0': 1,\n",
       " '6070_2_3': 1,\n",
       " '6010_1_2': 0,\n",
       " '6040_1_0': 0,\n",
       " '6060_2_3': 1,\n",
       " '6100_2_3': 1,\n",
       " '6100_2_2': 1,\n",
       " '6170_2_4': 1,\n",
       " '6090_2_0': 1,\n",
       " '6110_3_1': 1,\n",
       " '6170_4_1': 0,\n",
       " '6110_1_2': 1,\n",
       " '6100_1_3': 1,\n",
       " '6120_2_0': 0,\n",
       " '6040_4_4': 0,\n",
       " '6150_2_3': 1,\n",
       " '6040_1_3': 0,\n",
       " '6010_4_2': 0,\n",
       " '6170_0_4': 1,\n",
       " '6010_4_4': 0,\n",
       " '6160_2_1': 0,\n",
       " '6140_3_1': 1,\n",
       " '6140_1_2': 1,\n",
       " '6040_2_2': 0,\n",
       " '6120_2_2': 1}"
      ]
     },
     "execution_count": 88,
     "metadata": {},
     "output_type": "execute_result"
    }
   ],
   "source": [
    "geojson_per_image"
   ]
  },
  {
   "cell_type": "code",
   "execution_count": 89,
   "id": "dbe746b4",
   "metadata": {},
   "outputs": [
    {
     "data": {
      "text/html": [
       "<div>\n",
       "<style scoped>\n",
       "    .dataframe tbody tr th:only-of-type {\n",
       "        vertical-align: middle;\n",
       "    }\n",
       "\n",
       "    .dataframe tbody tr th {\n",
       "        vertical-align: top;\n",
       "    }\n",
       "\n",
       "    .dataframe thead th {\n",
       "        text-align: right;\n",
       "    }\n",
       "</style>\n",
       "<table border=\"1\" class=\"dataframe\">\n",
       "  <thead>\n",
       "    <tr style=\"text-align: right;\">\n",
       "      <th></th>\n",
       "      <th>0</th>\n",
       "    </tr>\n",
       "  </thead>\n",
       "  <tbody>\n",
       "    <tr>\n",
       "      <th>6110_4_0</th>\n",
       "      <td>1</td>\n",
       "    </tr>\n",
       "    <tr>\n",
       "      <th>6070_2_3</th>\n",
       "      <td>1</td>\n",
       "    </tr>\n",
       "    <tr>\n",
       "      <th>6010_1_2</th>\n",
       "      <td>0</td>\n",
       "    </tr>\n",
       "    <tr>\n",
       "      <th>6040_1_0</th>\n",
       "      <td>0</td>\n",
       "    </tr>\n",
       "    <tr>\n",
       "      <th>6060_2_3</th>\n",
       "      <td>1</td>\n",
       "    </tr>\n",
       "    <tr>\n",
       "      <th>6100_2_3</th>\n",
       "      <td>1</td>\n",
       "    </tr>\n",
       "    <tr>\n",
       "      <th>6100_2_2</th>\n",
       "      <td>1</td>\n",
       "    </tr>\n",
       "    <tr>\n",
       "      <th>6170_2_4</th>\n",
       "      <td>1</td>\n",
       "    </tr>\n",
       "    <tr>\n",
       "      <th>6090_2_0</th>\n",
       "      <td>1</td>\n",
       "    </tr>\n",
       "    <tr>\n",
       "      <th>6110_3_1</th>\n",
       "      <td>1</td>\n",
       "    </tr>\n",
       "    <tr>\n",
       "      <th>6170_4_1</th>\n",
       "      <td>0</td>\n",
       "    </tr>\n",
       "    <tr>\n",
       "      <th>6110_1_2</th>\n",
       "      <td>1</td>\n",
       "    </tr>\n",
       "    <tr>\n",
       "      <th>6100_1_3</th>\n",
       "      <td>1</td>\n",
       "    </tr>\n",
       "    <tr>\n",
       "      <th>6120_2_0</th>\n",
       "      <td>0</td>\n",
       "    </tr>\n",
       "    <tr>\n",
       "      <th>6040_4_4</th>\n",
       "      <td>0</td>\n",
       "    </tr>\n",
       "    <tr>\n",
       "      <th>6150_2_3</th>\n",
       "      <td>1</td>\n",
       "    </tr>\n",
       "    <tr>\n",
       "      <th>6040_1_3</th>\n",
       "      <td>0</td>\n",
       "    </tr>\n",
       "    <tr>\n",
       "      <th>6010_4_2</th>\n",
       "      <td>0</td>\n",
       "    </tr>\n",
       "    <tr>\n",
       "      <th>6170_0_4</th>\n",
       "      <td>1</td>\n",
       "    </tr>\n",
       "    <tr>\n",
       "      <th>6010_4_4</th>\n",
       "      <td>0</td>\n",
       "    </tr>\n",
       "    <tr>\n",
       "      <th>6160_2_1</th>\n",
       "      <td>0</td>\n",
       "    </tr>\n",
       "    <tr>\n",
       "      <th>6140_3_1</th>\n",
       "      <td>1</td>\n",
       "    </tr>\n",
       "    <tr>\n",
       "      <th>6140_1_2</th>\n",
       "      <td>1</td>\n",
       "    </tr>\n",
       "    <tr>\n",
       "      <th>6040_2_2</th>\n",
       "      <td>0</td>\n",
       "    </tr>\n",
       "    <tr>\n",
       "      <th>6120_2_2</th>\n",
       "      <td>1</td>\n",
       "    </tr>\n",
       "  </tbody>\n",
       "</table>\n",
       "</div>"
      ],
      "text/plain": [
       "          0\n",
       "6110_4_0  1\n",
       "6070_2_3  1\n",
       "6010_1_2  0\n",
       "6040_1_0  0\n",
       "6060_2_3  1\n",
       "6100_2_3  1\n",
       "6100_2_2  1\n",
       "6170_2_4  1\n",
       "6090_2_0  1\n",
       "6110_3_1  1\n",
       "6170_4_1  0\n",
       "6110_1_2  1\n",
       "6100_1_3  1\n",
       "6120_2_0  0\n",
       "6040_4_4  0\n",
       "6150_2_3  1\n",
       "6040_1_3  0\n",
       "6010_4_2  0\n",
       "6170_0_4  1\n",
       "6010_4_4  0\n",
       "6160_2_1  0\n",
       "6140_3_1  1\n",
       "6140_1_2  1\n",
       "6040_2_2  0\n",
       "6120_2_2  1"
      ]
     },
     "execution_count": 89,
     "metadata": {},
     "output_type": "execute_result"
    }
   ],
   "source": [
    "df_target = pd.DataFrame.from_dict(geojson_per_image, orient='index')\n",
    "df_target\n"
   ]
  },
  {
   "cell_type": "code",
   "execution_count": 90,
   "id": "814a7755",
   "metadata": {},
   "outputs": [
    {
     "data": {
      "text/plain": [
       "25"
      ]
     },
     "execution_count": 90,
     "metadata": {},
     "output_type": "execute_result"
    }
   ],
   "source": [
    "len(df_target)"
   ]
  },
  {
   "cell_type": "code",
   "execution_count": 93,
   "id": "c0d448f5",
   "metadata": {},
   "outputs": [
    {
     "data": {
      "text/plain": [
       "(334, 339, 3)"
      ]
     },
     "execution_count": 93,
     "metadata": {},
     "output_type": "execute_result"
    }
   ],
   "source": [
    "X_train.shape[1:]"
   ]
  },
  {
   "cell_type": "code",
   "execution_count": 94,
   "id": "4a5763a1",
   "metadata": {},
   "outputs": [
    {
     "data": {
      "text/plain": [
       "array([0])"
      ]
     },
     "execution_count": 94,
     "metadata": {},
     "output_type": "execute_result"
    }
   ],
   "source": [
    "y_train = np.asanyarray([0])\n",
    "y_train"
   ]
  },
  {
   "cell_type": "code",
   "execution_count": 95,
   "id": "1f620d83",
   "metadata": {
    "scrolled": true
   },
   "outputs": [
    {
     "name": "stdout",
     "output_type": "stream",
     "text": [
      "Model: \"sequential_7\"\n",
      "_________________________________________________________________\n",
      "Layer (type)                 Output Shape              Param #   \n",
      "=================================================================\n",
      "rescaling_7 (Rescaling)      (None, 334, 339, 3)       0         \n",
      "_________________________________________________________________\n",
      "conv2d_12 (Conv2D)           (None, 330, 335, 16)      1216      \n",
      "_________________________________________________________________\n",
      "max_pooling2d_12 (MaxPooling (None, 110, 111, 16)      0         \n",
      "_________________________________________________________________\n",
      "conv2d_13 (Conv2D)           (None, 107, 108, 32)      8224      \n",
      "_________________________________________________________________\n",
      "max_pooling2d_13 (MaxPooling (None, 35, 36, 32)        0         \n",
      "_________________________________________________________________\n",
      "conv2d_14 (Conv2D)           (None, 33, 34, 32)        9248      \n",
      "_________________________________________________________________\n",
      "max_pooling2d_14 (MaxPooling (None, 11, 11, 32)        0         \n",
      "_________________________________________________________________\n",
      "flatten_3 (Flatten)          (None, 3872)              0         \n",
      "_________________________________________________________________\n",
      "dense_6 (Dense)              (None, 100)               387300    \n",
      "_________________________________________________________________\n",
      "dense_7 (Dense)              (None, 1)                 101       \n",
      "=================================================================\n",
      "Total params: 406,089\n",
      "Trainable params: 406,089\n",
      "Non-trainable params: 0\n",
      "_________________________________________________________________\n"
     ]
    }
   ],
   "source": [
    "# Home made model\n",
    "from tensorflow.keras import Sequential, layers\n",
    "from tensorflow.keras import optimizers\n",
    "from tensorflow.keras.callbacks import EarlyStopping\n",
    "from tensorflow.keras.layers.experimental.preprocessing import Rescaling\n",
    "\n",
    "def load_own_model():\n",
    "\n",
    "    model = Sequential()\n",
    "    model.add(Rescaling(1./493, input_shape=(X_train.shape[1:])))\n",
    "\n",
    "    model.add(layers.Conv2D(16, kernel_size=5, activation='relu'))\n",
    "    model.add(layers.MaxPooling2D(3))\n",
    "    \n",
    "    model.add(layers.Conv2D(32, kernel_size=4, activation=\"relu\"))\n",
    "    model.add(layers.MaxPooling2D(3))\n",
    "\n",
    "    model.add(layers.Conv2D(32, kernel_size=3, activation=\"relu\"))\n",
    "    model.add(layers.MaxPooling2D(3))\n",
    "    \n",
    "    model.add(layers.Flatten())\n",
    "    model.add(layers.Dense(100, activation='relu'))\n",
    "    model.add(layers.Dense(1, activation='sigmoid'))\n",
    "    \n",
    "    opt = optimizers.Adam(learning_rate=1e-4)\n",
    "    model.compile(loss='binary_crossentropy',\n",
    "                  optimizer=opt,\n",
    "                  metrics=['accuracy'])\n",
    "    \n",
    "    return model\n",
    "\n",
    "model = load_own_model()\n",
    "model.summary()"
   ]
  },
  {
   "cell_type": "code",
   "execution_count": 96,
   "id": "157edf00",
   "metadata": {},
   "outputs": [
    {
     "name": "stdout",
     "output_type": "stream",
     "text": [
      "Epoch 1/10\n",
      "1/1 [==============================] - 2s 2s/step - loss: 0.7510 - accuracy: 0.0000e+00\n",
      "WARNING:tensorflow:Early stopping conditioned on metric `val_loss` which is not available. Available metrics are: loss,accuracy\n",
      "Epoch 2/10\n",
      "1/1 [==============================] - 0s 120ms/step - loss: 0.6845 - accuracy: 1.0000\n",
      "WARNING:tensorflow:Early stopping conditioned on metric `val_loss` which is not available. Available metrics are: loss,accuracy\n",
      "Epoch 3/10\n",
      "1/1 [==============================] - 0s 121ms/step - loss: 0.6261 - accuracy: 1.0000\n",
      "WARNING:tensorflow:Early stopping conditioned on metric `val_loss` which is not available. Available metrics are: loss,accuracy\n",
      "Epoch 4/10\n",
      "1/1 [==============================] - 0s 117ms/step - loss: 0.5746 - accuracy: 1.0000\n",
      "WARNING:tensorflow:Early stopping conditioned on metric `val_loss` which is not available. Available metrics are: loss,accuracy\n",
      "Epoch 5/10\n",
      "1/1 [==============================] - 0s 112ms/step - loss: 0.5317 - accuracy: 1.0000\n",
      "WARNING:tensorflow:Early stopping conditioned on metric `val_loss` which is not available. Available metrics are: loss,accuracy\n",
      "Epoch 6/10\n",
      "1/1 [==============================] - 0s 101ms/step - loss: 0.4945 - accuracy: 1.0000\n",
      "WARNING:tensorflow:Early stopping conditioned on metric `val_loss` which is not available. Available metrics are: loss,accuracy\n",
      "Epoch 7/10\n",
      "1/1 [==============================] - 0s 105ms/step - loss: 0.4590 - accuracy: 1.0000\n",
      "WARNING:tensorflow:Early stopping conditioned on metric `val_loss` which is not available. Available metrics are: loss,accuracy\n",
      "Epoch 8/10\n",
      "1/1 [==============================] - 0s 100ms/step - loss: 0.4239 - accuracy: 1.0000\n",
      "WARNING:tensorflow:Early stopping conditioned on metric `val_loss` which is not available. Available metrics are: loss,accuracy\n",
      "Epoch 9/10\n",
      "1/1 [==============================] - 0s 102ms/step - loss: 0.3909 - accuracy: 1.0000\n",
      "WARNING:tensorflow:Early stopping conditioned on metric `val_loss` which is not available. Available metrics are: loss,accuracy\n",
      "Epoch 10/10\n",
      "1/1 [==============================] - 0s 135ms/step - loss: 0.3584 - accuracy: 1.0000\n",
      "WARNING:tensorflow:Early stopping conditioned on metric `val_loss` which is not available. Available metrics are: loss,accuracy\n"
     ]
    },
    {
     "data": {
      "text/plain": [
       "<tensorflow.python.keras.callbacks.History at 0x163f3e730>"
      ]
     },
     "execution_count": 96,
     "metadata": {},
     "output_type": "execute_result"
    }
   ],
   "source": [
    "es = EarlyStopping(mode='max', patience=5, restore_best_weights=True)\n",
    "\n",
    "model.fit(X_train, y_train,\n",
    "         batch_size=16, \n",
    "         epochs=10,\n",
    "         callbacks=[es],verbose=1)"
   ]
  },
  {
   "cell_type": "markdown",
   "id": "984be88a",
   "metadata": {},
   "source": [
    "## Let's try try to predict something "
   ]
  },
  {
   "cell_type": "code",
   "execution_count": 98,
   "id": "bcc94893",
   "metadata": {},
   "outputs": [
    {
     "name": "stdout",
     "output_type": "stream",
     "text": [
      "Original Dimensions :  (3349, 3396, 3)\n",
      "Resized Dimensions :  (334, 339, 3)\n"
     ]
    }
   ],
   "source": [
    " \n",
    "img_p = cv2.imread('/Users/kyleheidtbrink/code/kheidtbrink/sat_imagery/raw_data/predict/6010_0_1.tif', cv2.IMREAD_UNCHANGED)\n",
    " \n",
    "print('Original Dimensions : ',img_p.shape)\n",
    " \n",
    "scale_percent = 10 # percent of original size\n",
    "width = int(img_p.shape[1] * scale_percent / 100)\n",
    "height = int(img_p.shape[0] * scale_percent / 100)\n",
    "dim = (width, height)\n",
    "  \n",
    "# resize image\n",
    "resized_predict = cv2.resize(img_p, dim, interpolation = cv2.INTER_AREA)\n",
    " \n",
    "print('Resized Dimensions : ',resized.shape)\n",
    " "
   ]
  },
  {
   "cell_type": "code",
   "execution_count": 100,
   "id": "3515c9ec",
   "metadata": {},
   "outputs": [
    {
     "data": {
      "text/plain": [
       "(334, 339, 3)"
      ]
     },
     "execution_count": 100,
     "metadata": {},
     "output_type": "execute_result"
    }
   ],
   "source": [
    "resized_predict.shape"
   ]
  },
  {
   "cell_type": "code",
   "execution_count": 108,
   "id": "58327a8c",
   "metadata": {},
   "outputs": [
    {
     "data": {
      "text/plain": [
       "(1, 334, 339, 3)"
      ]
     },
     "execution_count": 108,
     "metadata": {},
     "output_type": "execute_result"
    }
   ],
   "source": [
    "resized_predict = np.expand_dims(resized,axis=0)\n",
    "resized_predict.shape"
   ]
  },
  {
   "cell_type": "code",
   "execution_count": 105,
   "id": "5471e151",
   "metadata": {},
   "outputs": [
    {
     "data": {
      "text/plain": [
       "(1,)"
      ]
     },
     "execution_count": 105,
     "metadata": {},
     "output_type": "execute_result"
    }
   ],
   "source": [
    "# Water\n",
    "y_water = np.array([1])\n",
    "y_water.shape"
   ]
  },
  {
   "cell_type": "code",
   "execution_count": 104,
   "id": "2bd30b1d",
   "metadata": {},
   "outputs": [
    {
     "data": {
      "text/plain": [
       "(1,)"
      ]
     },
     "execution_count": 104,
     "metadata": {},
     "output_type": "execute_result"
    }
   ],
   "source": [
    "# Not Water \n",
    "y_not_water = np.array([0])\n",
    "y_not_water.shape"
   ]
  },
  {
   "cell_type": "code",
   "execution_count": 110,
   "id": "13a864a0",
   "metadata": {},
   "outputs": [],
   "source": [
    "#first trial predict\n",
    "\n",
    "output = model.predict(resized_predict)"
   ]
  },
  {
   "cell_type": "code",
   "execution_count": 116,
   "id": "3732eaad",
   "metadata": {},
   "outputs": [
    {
     "data": {
      "text/plain": [
       "array([[0.2771153]], dtype=float32)"
      ]
     },
     "execution_count": 116,
     "metadata": {},
     "output_type": "execute_result"
    }
   ],
   "source": [
    "output"
   ]
  },
  {
   "cell_type": "code",
   "execution_count": 117,
   "id": "b34b2377",
   "metadata": {},
   "outputs": [
    {
     "name": "stderr",
     "output_type": "stream",
     "text": [
      "/Users/kyleheidtbrink/.pyenv/versions/3.8.6/envs/sat_imagery_project/lib/python3.8/site-packages/tensorflow/python/keras/engine/sequential.py:455: UserWarning: `model.predict_classes()` is deprecated and will be removed after 2021-01-01. Please use instead:* `np.argmax(model.predict(x), axis=-1)`,   if your model does multi-class classification   (e.g. if it uses a `softmax` last-layer activation).* `(model.predict(x) > 0.5).astype(\"int32\")`,   if your model does binary classification   (e.g. if it uses a `sigmoid` last-layer activation).\n",
      "  warnings.warn('`model.predict_classes()` is deprecated and '\n"
     ]
    },
    {
     "data": {
      "text/plain": [
       "array([[0]], dtype=int32)"
      ]
     },
     "execution_count": 117,
     "metadata": {},
     "output_type": "execute_result"
    }
   ],
   "source": [
    "model.predict_classes(resized_predict)"
   ]
  },
  {
   "cell_type": "code",
   "execution_count": null,
   "id": "f2ee2ef3",
   "metadata": {},
   "outputs": [],
   "source": [
    "model."
   ]
  },
  {
   "cell_type": "markdown",
   "id": "cfeb67f1",
   "metadata": {},
   "source": [
    "## Previous workflow - Not useful for the moment"
   ]
  },
  {
   "cell_type": "code",
   "execution_count": 101,
   "id": "0573bcb7",
   "metadata": {},
   "outputs": [],
   "source": [
    "# Prepare a predict\n",
    "\n",
    "# Load image from directory\n",
    "#dirname = '/Users/kyleheidtbrink/code/kheidtbrink/sat_imagery/raw_data/predict/'  # absolute path\n",
    "#predict = []   # list which will contain array of individual tif files\n",
    "# iterate through the file directory\n",
    "#for fname in os.listdir(dirname):\n",
    "#    print(fname)\n",
    "#    im = Image.open(os.path.join(dirname, fname))\n",
    "#    imarray = np.array(im)\n",
    "#    predict.append(imarray)"
   ]
  },
  {
   "cell_type": "code",
   "execution_count": null,
   "id": "a87e02f4",
   "metadata": {},
   "outputs": [],
   "source": [
    "# explore the shape of the files\n",
    "#predict_shape = []\n",
    "#for i in predict:\n",
    "#    print(i.shape)\n",
    "#    array_shape.append(i.shape)"
   ]
  },
  {
   "cell_type": "code",
   "execution_count": null,
   "id": "be0f575a",
   "metadata": {},
   "outputs": [],
   "source": [
    "# put the the data into a numpy array\n",
    "#array_pred = np.asanyarray(predict)\n",
    "#array_pred.shape"
   ]
  },
  {
   "cell_type": "code",
   "execution_count": null,
   "id": "2700b5f7",
   "metadata": {},
   "outputs": [],
   "source": []
  },
  {
   "cell_type": "code",
   "execution_count": null,
   "id": "bafd457d",
   "metadata": {},
   "outputs": [],
   "source": []
  },
  {
   "cell_type": "code",
   "execution_count": null,
   "id": "8114827d",
   "metadata": {},
   "outputs": [],
   "source": []
  },
  {
   "cell_type": "code",
   "execution_count": null,
   "id": "1c13bd16",
   "metadata": {},
   "outputs": [],
   "source": [
    "#array_pred.shape"
   ]
  },
  {
   "cell_type": "code",
   "execution_count": null,
   "id": "e0141a5e",
   "metadata": {},
   "outputs": [],
   "source": [
    "#X_train.shape"
   ]
  },
  {
   "cell_type": "code",
   "execution_count": null,
   "id": "0c35e385",
   "metadata": {
    "scrolled": true
   },
   "outputs": [],
   "source": [
    "#x_test = array_pred[0,:,:,:]\n",
    "#x_test.shape"
   ]
  },
  {
   "cell_type": "code",
   "execution_count": null,
   "id": "fddcb542",
   "metadata": {},
   "outputs": [],
   "source": [
    "#a = np.append(x_test,x_test[])\n"
   ]
  },
  {
   "cell_type": "code",
   "execution_count": null,
   "id": "8b1554ca",
   "metadata": {},
   "outputs": [],
   "source": [
    "#reshape_image = []\n",
    "\n",
    " #   reshape_image.append(image[:x_min,:y_min])"
   ]
  },
  {
   "cell_type": "code",
   "execution_count": null,
   "id": "443c7ff5",
   "metadata": {},
   "outputs": [],
   "source": [
    "pic = tif.imread('/Users/kyleheidtbrink/code/kheidtbrink/sat_imagery/raw_data/sixteen_band/6010_0_1_P.tif') \n",
    "tif.imshow(pic,cmap='gray')"
   ]
  },
  {
   "cell_type": "code",
   "execution_count": null,
   "id": "825bb5bc",
   "metadata": {},
   "outputs": [],
   "source": []
  }
 ],
 "metadata": {
  "kernelspec": {
   "display_name": "Python 3",
   "language": "python",
   "name": "python3"
  },
  "language_info": {
   "codemirror_mode": {
    "name": "ipython",
    "version": 3
   },
   "file_extension": ".py",
   "mimetype": "text/x-python",
   "name": "python",
   "nbconvert_exporter": "python",
   "pygments_lexer": "ipython3",
   "version": "3.8.6"
  },
  "toc": {
   "base_numbering": 1,
   "nav_menu": {},
   "number_sections": true,
   "sideBar": true,
   "skip_h1_title": false,
   "title_cell": "Table of Contents",
   "title_sidebar": "Contents",
   "toc_cell": false,
   "toc_position": {},
   "toc_section_display": true,
   "toc_window_display": false
  }
 },
 "nbformat": 4,
 "nbformat_minor": 5
}
