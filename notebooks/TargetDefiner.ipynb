{
 "cells": [
  {
   "cell_type": "markdown",
   "id": "7fd6e509",
   "metadata": {},
   "source": [
    "# Testings"
   ]
  },
  {
   "cell_type": "code",
   "execution_count": 1,
   "id": "15f1cce5",
   "metadata": {},
   "outputs": [],
   "source": [
    "import pandas as pd\n",
    "import numpy as np\n",
    "import matplotlib.pyplot as plt\n",
    "from PIL import Image\n",
    "import os\n",
    "import geopandas as gdp\n",
    "from tensorflow import keras\n",
    "from tensorflow.keras import layers\n",
    "from tensorflow.keras import Sequential\n",
    "import tifffile as tiff\n",
    "import glob"
   ]
  },
  {
   "cell_type": "markdown",
   "id": "db4eb4ea",
   "metadata": {},
   "source": [
    "# GEOJSON FOLDERS"
   ]
  },
  {
   "cell_type": "code",
   "execution_count": 2,
   "id": "345081a2",
   "metadata": {},
   "outputs": [],
   "source": [
    "#open geojson training folder\n",
    "file = '/Users/weiyiwang/code/kheidtbrink/sat_imagery/raw_data/Satellite/train_geojson_v3/'\n",
    "\n",
    "for name in os.listdir(file):\n",
    "    files = os.walk(file)\n",
    "    geojson_files = [f[0] for f in os.walk(file)]"
   ]
  },
  {
   "cell_type": "code",
   "execution_count": 3,
   "id": "e361b98c",
   "metadata": {},
   "outputs": [],
   "source": [
    "geojson_folders = os.listdir(geojson_files[0]) #list of all the folders inside the training folder"
   ]
  },
  {
   "cell_type": "code",
   "execution_count": 4,
   "id": "d736ad0e",
   "metadata": {},
   "outputs": [
    {
     "data": {
      "text/plain": [
       "'/Users/weiyiwang/code/kheidtbrink/sat_imagery/raw_data/Satellite/train_geojson_v3/'"
      ]
     },
     "execution_count": 4,
     "metadata": {},
     "output_type": "execute_result"
    }
   ],
   "source": [
    "geojson_files[0] #path that will be used to open files"
   ]
  },
  {
   "cell_type": "markdown",
   "id": "93fe43d7",
   "metadata": {},
   "source": [
    "## Regroup images with class polygons"
   ]
  },
  {
   "cell_type": "markdown",
   "id": "9da901ee",
   "metadata": {},
   "source": [
    "'filename_to_classType = {\n",
    "'001_MM_L2_LARGE_BUILDING':1,\n",
    "'001_MM_L3_RESIDENTIAL_BUILDING':1,\n",
    "'001_MM_L3_NON_RESIDENTIAL_BUILDING':1,\n",
    "'001_MM_L5_MISC_SMALL_STRUCTURE':2,\n",
    "'002_TR_L3_GOOD_ROADS':3,\n",
    "'002_TR_L4_POOR_DIRT_CART_TRACK':4,\n",
    "'002_TR_L6_FOOTPATH_TRAIL':4,\n",
    "'006_VEG_L2_WOODLAND':5,\n",
    "'006_VEG_L3_HEDGEROWS':5,\n",
    "'006_VEG_L5_GROUP_TREES':5,\n",
    "'006_VEG_L5_STANDALONE_TREES':5,\n",
    "'007_AGR_L2_CONTOUR_PLOUGHING_CROPLAND':6,\n",
    "'007_AGR_L6_ROW_CROP':6, \n",
    "'008_WTR_L3_WATERWAY':7,\n",
    "'008_WTR_L2_STANDING_WATER':8,\n",
    "'003_VH_L4_LARGE_VEHICLE':9,\n",
    "'003_VH_L5_SMALL_VEHICLE':10,\n",
    "'003_VH_L6_MOTORBIKE':10}'"
   ]
  },
  {
   "cell_type": "code",
   "execution_count": 5,
   "id": "349ce1df",
   "metadata": {},
   "outputs": [],
   "source": [
    "geojson_per_image = {}\n",
    "\n",
    "for i in geojson_folders:\n",
    "    fichiers = os.listdir(geojson_files[0]+ f\"/{i}\")\n",
    "    geojson_per_image[i] = int(any('008' in s for s in fichiers)) #target water"
   ]
  },
  {
   "cell_type": "code",
   "execution_count": 6,
   "id": "2391c4f6",
   "metadata": {},
   "outputs": [
    {
     "data": {
      "text/plain": [
       "{'6110_4_0': 1,\n",
       " '6070_2_3': 1,\n",
       " '6010_1_2': 0,\n",
       " '6040_1_0': 0,\n",
       " '6060_2_3': 1,\n",
       " '6100_2_3': 1,\n",
       " '6100_2_2': 1,\n",
       " '6170_2_4': 1,\n",
       " '6090_2_0': 1,\n",
       " '6110_3_1': 1,\n",
       " '6170_4_1': 0,\n",
       " '6110_1_2': 1,\n",
       " '6100_1_3': 1,\n",
       " '6120_2_0': 0,\n",
       " '6040_4_4': 0,\n",
       " '6150_2_3': 1,\n",
       " '6040_1_3': 0,\n",
       " '6010_4_2': 0,\n",
       " '6170_0_4': 1,\n",
       " '6010_4_4': 0,\n",
       " '6160_2_1': 0,\n",
       " '6140_3_1': 1,\n",
       " '6140_1_2': 1,\n",
       " '6040_2_2': 0,\n",
       " '6120_2_2': 1}"
      ]
     },
     "execution_count": 6,
     "metadata": {},
     "output_type": "execute_result"
    }
   ],
   "source": [
    "geojson_per_image"
   ]
  },
  {
   "cell_type": "markdown",
   "id": "79d7e729",
   "metadata": {},
   "source": [
    "# target water"
   ]
  },
  {
   "cell_type": "code",
   "execution_count": 7,
   "id": "1ca39202",
   "metadata": {},
   "outputs": [],
   "source": [
    "df_target = pd.DataFrame.from_dict(geojson_per_image, orient='index')"
   ]
  },
  {
   "cell_type": "code",
   "execution_count": 8,
   "id": "579292a0",
   "metadata": {},
   "outputs": [],
   "source": [
    "y = df_target"
   ]
  },
  {
   "cell_type": "code",
   "execution_count": 10,
   "id": "dfe0dafd",
   "metadata": {},
   "outputs": [
    {
     "data": {
      "text/html": [
       "<div>\n",
       "<style scoped>\n",
       "    .dataframe tbody tr th:only-of-type {\n",
       "        vertical-align: middle;\n",
       "    }\n",
       "\n",
       "    .dataframe tbody tr th {\n",
       "        vertical-align: top;\n",
       "    }\n",
       "\n",
       "    .dataframe thead th {\n",
       "        text-align: right;\n",
       "    }\n",
       "</style>\n",
       "<table border=\"1\" class=\"dataframe\">\n",
       "  <thead>\n",
       "    <tr style=\"text-align: right;\">\n",
       "      <th></th>\n",
       "      <th>0</th>\n",
       "    </tr>\n",
       "  </thead>\n",
       "  <tbody>\n",
       "    <tr>\n",
       "      <th>6110_4_0</th>\n",
       "      <td>1</td>\n",
       "    </tr>\n",
       "    <tr>\n",
       "      <th>6070_2_3</th>\n",
       "      <td>1</td>\n",
       "    </tr>\n",
       "    <tr>\n",
       "      <th>6010_1_2</th>\n",
       "      <td>0</td>\n",
       "    </tr>\n",
       "    <tr>\n",
       "      <th>6040_1_0</th>\n",
       "      <td>0</td>\n",
       "    </tr>\n",
       "    <tr>\n",
       "      <th>6060_2_3</th>\n",
       "      <td>1</td>\n",
       "    </tr>\n",
       "    <tr>\n",
       "      <th>6100_2_3</th>\n",
       "      <td>1</td>\n",
       "    </tr>\n",
       "    <tr>\n",
       "      <th>6100_2_2</th>\n",
       "      <td>1</td>\n",
       "    </tr>\n",
       "    <tr>\n",
       "      <th>6170_2_4</th>\n",
       "      <td>1</td>\n",
       "    </tr>\n",
       "    <tr>\n",
       "      <th>6090_2_0</th>\n",
       "      <td>1</td>\n",
       "    </tr>\n",
       "    <tr>\n",
       "      <th>6110_3_1</th>\n",
       "      <td>1</td>\n",
       "    </tr>\n",
       "    <tr>\n",
       "      <th>6170_4_1</th>\n",
       "      <td>0</td>\n",
       "    </tr>\n",
       "    <tr>\n",
       "      <th>6110_1_2</th>\n",
       "      <td>1</td>\n",
       "    </tr>\n",
       "    <tr>\n",
       "      <th>6100_1_3</th>\n",
       "      <td>1</td>\n",
       "    </tr>\n",
       "    <tr>\n",
       "      <th>6120_2_0</th>\n",
       "      <td>0</td>\n",
       "    </tr>\n",
       "    <tr>\n",
       "      <th>6040_4_4</th>\n",
       "      <td>0</td>\n",
       "    </tr>\n",
       "    <tr>\n",
       "      <th>6150_2_3</th>\n",
       "      <td>1</td>\n",
       "    </tr>\n",
       "    <tr>\n",
       "      <th>6040_1_3</th>\n",
       "      <td>0</td>\n",
       "    </tr>\n",
       "    <tr>\n",
       "      <th>6010_4_2</th>\n",
       "      <td>0</td>\n",
       "    </tr>\n",
       "    <tr>\n",
       "      <th>6170_0_4</th>\n",
       "      <td>1</td>\n",
       "    </tr>\n",
       "    <tr>\n",
       "      <th>6010_4_4</th>\n",
       "      <td>0</td>\n",
       "    </tr>\n",
       "    <tr>\n",
       "      <th>6160_2_1</th>\n",
       "      <td>0</td>\n",
       "    </tr>\n",
       "    <tr>\n",
       "      <th>6140_3_1</th>\n",
       "      <td>1</td>\n",
       "    </tr>\n",
       "    <tr>\n",
       "      <th>6140_1_2</th>\n",
       "      <td>1</td>\n",
       "    </tr>\n",
       "    <tr>\n",
       "      <th>6040_2_2</th>\n",
       "      <td>0</td>\n",
       "    </tr>\n",
       "    <tr>\n",
       "      <th>6120_2_2</th>\n",
       "      <td>1</td>\n",
       "    </tr>\n",
       "  </tbody>\n",
       "</table>\n",
       "</div>"
      ],
      "text/plain": [
       "          0\n",
       "6110_4_0  1\n",
       "6070_2_3  1\n",
       "6010_1_2  0\n",
       "6040_1_0  0\n",
       "6060_2_3  1\n",
       "6100_2_3  1\n",
       "6100_2_2  1\n",
       "6170_2_4  1\n",
       "6090_2_0  1\n",
       "6110_3_1  1\n",
       "6170_4_1  0\n",
       "6110_1_2  1\n",
       "6100_1_3  1\n",
       "6120_2_0  0\n",
       "6040_4_4  0\n",
       "6150_2_3  1\n",
       "6040_1_3  0\n",
       "6010_4_2  0\n",
       "6170_0_4  1\n",
       "6010_4_4  0\n",
       "6160_2_1  0\n",
       "6140_3_1  1\n",
       "6140_1_2  1\n",
       "6040_2_2  0\n",
       "6120_2_2  1"
      ]
     },
     "execution_count": 10,
     "metadata": {},
     "output_type": "execute_result"
    }
   ],
   "source": [
    "y"
   ]
  },
  {
   "cell_type": "code",
   "execution_count": null,
   "id": "f1e37a22",
   "metadata": {},
   "outputs": [],
   "source": [
    "w = ['008' in s for s in fichiers if '008' in s]"
   ]
  }
 ],
 "metadata": {
  "kernelspec": {
   "display_name": "Python 3",
   "language": "python",
   "name": "python3"
  },
  "language_info": {
   "codemirror_mode": {
    "name": "ipython",
    "version": 3
   },
   "file_extension": ".py",
   "mimetype": "text/x-python",
   "name": "python",
   "nbconvert_exporter": "python",
   "pygments_lexer": "ipython3",
   "version": "3.8.6"
  },
  "toc": {
   "base_numbering": 1,
   "nav_menu": {},
   "number_sections": true,
   "sideBar": true,
   "skip_h1_title": false,
   "title_cell": "Table of Contents",
   "title_sidebar": "Contents",
   "toc_cell": false,
   "toc_position": {},
   "toc_section_display": true,
   "toc_window_display": false
  }
 },
 "nbformat": 4,
 "nbformat_minor": 5
}
